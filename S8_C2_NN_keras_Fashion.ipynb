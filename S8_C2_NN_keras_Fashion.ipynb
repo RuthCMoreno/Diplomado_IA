{
  "nbformat": 4,
  "nbformat_minor": 0,
  "metadata": {
    "colab": {
      "provenance": [],
      "include_colab_link": true
    },
    "kernelspec": {
      "name": "python3",
      "display_name": "Python 3"
    },
    "language_info": {
      "name": "python"
    }
  },
  "cells": [
    {
      "cell_type": "markdown",
      "metadata": {
        "id": "view-in-github",
        "colab_type": "text"
      },
      "source": [
        "<a href=\"https://colab.research.google.com/github/RuthCMoreno/Diplomado_IA/blob/main/S8_C2_NN_keras_Fashion.ipynb\" target=\"_parent\"><img src=\"https://colab.research.google.com/assets/colab-badge.svg\" alt=\"Open In Colab\"/></a>"
      ]
    },
    {
      "cell_type": "code",
      "execution_count": 1,
      "metadata": {
        "id": "JfAqI95sGseL"
      },
      "outputs": [],
      "source": [
        "# NumPy nos permite realizar operaciones de álgebra lineal, matrices y es muy flexible para ser utilizada con TensorFlow\n",
        "import numpy as np\n",
        "\n",
        "# Matplotlib simplifica la creación de gráficos y será muy importante para presentar los resultados obtenidos\n",
        "import matplotlib.pyplot as plt\n",
        "\n",
        "# Instalamos TensorFlow en nuestro entorno de ejecución\n",
        "import tensorflow as tf\n",
        "\n",
        "# Keras es una serie de APIs de TensorFlow que permiten simplificar el desarrollo de modelos\n",
        "from tensorflow import keras"
      ]
    },
    {
      "cell_type": "code",
      "source": [
        "datos = keras.datasets.fashion_mnist"
      ],
      "metadata": {
        "id": "ryJf2eBaIjIS"
      },
      "execution_count": 2,
      "outputs": []
    },
    {
      "cell_type": "code",
      "source": [
        "# Almacenamos la información de la base de datos y la dividimos en conjuntos de prueba y entrenamiento.\n",
        "# X_train, y_train,                               X_test, y_test\n",
        "(imagenes_entrenamiento, labels_entrenamiento), (imagenes_prueba, labels_prueba) = datos.load_data()\n",
        "\n",
        "# Dado que las imágenes tienen una descripción numérica, es mucho más sencillo revisarlas por su nombre\n",
        "# Clase_imagenes = [0 , 1,   2, ]\n",
        "clase_imagenes = ['Playera', 'Pantalón', 'Suéter', 'Vestido', 'Abrigo', 'Sandalia', 'Camisa', 'Tenis', 'Bolso', 'Botas']"
      ],
      "metadata": {
        "id": "15xsfpDhIxwh",
        "colab": {
          "base_uri": "https://localhost:8080/"
        },
        "outputId": "142ddcfc-eeb1-4c65-9f91-044c55215f09"
      },
      "execution_count": 3,
      "outputs": [
        {
          "output_type": "stream",
          "name": "stdout",
          "text": [
            "Downloading data from https://storage.googleapis.com/tensorflow/tf-keras-datasets/train-labels-idx1-ubyte.gz\n",
            "\u001b[1m29515/29515\u001b[0m \u001b[32m━━━━━━━━━━━━━━━━━━━━\u001b[0m\u001b[37m\u001b[0m \u001b[1m0s\u001b[0m 0us/step\n",
            "Downloading data from https://storage.googleapis.com/tensorflow/tf-keras-datasets/train-images-idx3-ubyte.gz\n",
            "\u001b[1m26421880/26421880\u001b[0m \u001b[32m━━━━━━━━━━━━━━━━━━━━\u001b[0m\u001b[37m\u001b[0m \u001b[1m0s\u001b[0m 0us/step\n",
            "Downloading data from https://storage.googleapis.com/tensorflow/tf-keras-datasets/t10k-labels-idx1-ubyte.gz\n",
            "\u001b[1m5148/5148\u001b[0m \u001b[32m━━━━━━━━━━━━━━━━━━━━\u001b[0m\u001b[37m\u001b[0m \u001b[1m0s\u001b[0m 0us/step\n",
            "Downloading data from https://storage.googleapis.com/tensorflow/tf-keras-datasets/t10k-images-idx3-ubyte.gz\n",
            "\u001b[1m4422102/4422102\u001b[0m \u001b[32m━━━━━━━━━━━━━━━━━━━━\u001b[0m\u001b[37m\u001b[0m \u001b[1m0s\u001b[0m 0us/step\n"
          ]
        }
      ]
    },
    {
      "cell_type": "code",
      "source": [
        "imagenes_prueba[20]"
      ],
      "metadata": {
        "colab": {
          "base_uri": "https://localhost:8080/",
          "height": 68
        },
        "id": "P8e0AleBI4Fp",
        "outputId": "b8270d9b-078f-45d3-b2aa-45d535c5f35d"
      },
      "execution_count": 4,
      "outputs": [
        {
          "output_type": "execute_result",
          "data": {
            "text/plain": [
              "array([[  0,   0,   0,   0,   0,   0,   0,   0,  24, 173, 222, 224, 206,\n",
              "        180, 235, 175, 185, 233, 233, 149,   0,   0,   0,   0,   0,   0,\n",
              "          0,   0],\n",
              "       [  0,   0,   0,   1,   0,   0,  22, 139, 242, 215, 252, 229, 211,\n",
              "        112,   0,  52, 139, 228, 248, 202, 211, 158,  17,   0,   0,   0,\n",
              "          0,   0],\n",
              "       [  0,   0,   1,   0,   0, 143, 230, 229, 208, 197, 242, 224, 214,\n",
              "        234, 186, 255, 234, 223, 235, 199, 211, 237, 219,  48,   0,   0,\n",
              "          0,   0],\n",
              "       [  0,   0,   0,   0, 133, 216, 219, 205, 205, 185, 216, 202, 186,\n",
              "        180, 199, 192, 225, 238, 182, 197, 222, 220, 208, 194,  29,   0,\n",
              "          1,   0],\n",
              "       [  0,   3,   0,  26, 214, 186, 208, 206, 209, 202, 194, 206, 195,\n",
              "        173, 185, 181, 224, 177, 199, 195, 199, 215, 182, 208, 186,   0,\n",
              "          0,   0],\n",
              "       [  0,   7,   0, 126, 211, 185, 214, 215, 211, 213, 209, 197, 196,\n",
              "        224, 200, 211, 194, 210, 222, 227, 232, 218, 185, 191, 199,   7,\n",
              "          0,   0],\n",
              "       [  0,   0,   0, 183, 205, 182, 201, 190, 211, 204, 209, 214, 202,\n",
              "        209, 196, 192, 194, 195, 192, 189, 219, 227, 180, 178, 210, 121,\n",
              "          0,   0],\n",
              "       [  0,   0,  48, 191, 189, 178, 235, 195, 192, 196, 183, 187, 189,\n",
              "        189, 187, 187, 187, 189, 183, 182, 191, 187, 175, 186, 190, 182,\n",
              "          0,   0],\n",
              "       [  0,   0, 130, 182, 176, 183, 205, 185, 191, 190, 180, 187, 185,\n",
              "        200, 189, 190, 195, 196, 200, 195, 199, 196, 191, 173, 180, 185,\n",
              "          0,   0],\n",
              "       [  0,   0, 158, 189, 173, 197, 172, 200, 201, 187, 205, 194, 180,\n",
              "        182, 182, 173, 191, 194, 182, 192, 192, 195, 194, 181, 194, 210,\n",
              "         13,   0],\n",
              "       [  0,   0, 157, 185, 191, 180, 186, 185, 187, 185, 195, 201, 199,\n",
              "        190, 187, 187, 204, 182, 200, 185, 206, 202, 177, 186, 166, 183,\n",
              "         52,   0],\n",
              "       [  0,   0, 195, 173, 180, 205, 186, 192, 201, 200, 192, 189, 197,\n",
              "        204, 200, 191, 173, 180, 195, 205, 205, 200, 202, 163, 143, 197,\n",
              "         72,   0],\n",
              "       [  0,   0, 210, 170, 167, 178, 196, 215, 204, 204, 206, 205, 200,\n",
              "        192, 181, 190, 175, 190, 199, 196, 195, 181, 158, 177, 152, 190,\n",
              "         87,   0],\n",
              "       [  0,   0, 197, 171, 178, 147, 114, 215, 177, 145, 156, 168, 161,\n",
              "        157, 170, 164, 175, 154, 150, 162, 192, 129, 107, 190, 158, 197,\n",
              "        120,   0],\n",
              "       [  0,   5, 192, 166, 186, 164,  81, 210, 173, 150, 172, 162, 178,\n",
              "        157, 166, 176, 176, 166, 171, 167, 196, 139,  90, 185, 157, 187,\n",
              "        111,   0],\n",
              "       [  0,  25, 177, 159, 180, 142,  64, 204, 178, 168, 180, 158, 164,\n",
              "        166, 162, 178, 163, 156, 177, 164, 211, 140,  85, 210, 153, 170,\n",
              "        129,   0],\n",
              "       [  0,  36, 182, 164, 197, 142,  86, 215, 167, 158, 154, 163, 181,\n",
              "        175, 164, 159, 167, 159, 177, 162, 200, 144,  95, 199, 145, 190,\n",
              "        140,   0],\n",
              "       [  0,  38, 173, 153, 172, 121,  72, 215, 154, 166, 161, 163, 181,\n",
              "        172, 170, 171, 168, 164, 175, 168, 187, 140,  65, 164, 143, 170,\n",
              "        123,   0],\n",
              "       [  0,  29, 173, 144, 162, 112,  64, 219, 167, 176, 181, 167, 180,\n",
              "        178, 166, 171, 171, 167, 183, 182, 204, 150,  43, 171, 134, 162,\n",
              "        119,   0],\n",
              "       [  0,  24, 164, 139, 175, 111,  59, 200, 163, 153, 150, 137, 144,\n",
              "        142, 145, 147, 156, 138, 138, 137, 163, 138,  36, 186, 139, 154,\n",
              "        124,   0],\n",
              "       [  0,  25, 181, 138, 167, 109,  55, 178, 142, 140, 143, 145, 135,\n",
              "        143, 145, 150, 137, 138, 161, 152, 159, 131,  40, 201, 123, 164,\n",
              "        129,   0],\n",
              "       [  0,   0, 161, 143, 163, 133,  39, 185, 153, 152, 145, 154, 147,\n",
              "        152, 140, 133, 153, 148, 152, 139, 156, 166,  31, 168, 126, 159,\n",
              "        110,   0],\n",
              "       [  0,   0, 173, 138, 154, 126,  32, 194, 140, 149, 139, 138, 139,\n",
              "        138, 154, 135, 158, 149, 162, 152, 168, 133,  15, 183, 138, 163,\n",
              "        116,   0],\n",
              "       [  0,   0, 166, 145, 149, 126,   0, 204, 164, 133, 159, 154, 156,\n",
              "        152, 149, 167, 156, 143, 150, 129, 194, 129,  16, 199, 137, 159,\n",
              "        117,   0],\n",
              "       [  0,   0, 137, 163, 143, 139,   0, 180, 159, 139, 150, 147, 138,\n",
              "        153, 140, 154, 156, 148, 154, 142, 181, 107,   0, 196, 145, 161,\n",
              "         68,   0],\n",
              "       [  0,   0,  64, 162, 143, 120,   0, 153, 158, 152, 156, 163, 154,\n",
              "        148, 148, 144, 140, 142, 142, 149, 196,  58,   0, 167, 138, 159,\n",
              "         26,   0],\n",
              "       [  0,   0,  19, 159, 161, 131,   0, 106, 183, 157, 157, 152, 167,\n",
              "        173, 162, 177, 181, 161, 154, 157, 211,  30,   0, 159, 145, 163,\n",
              "         10,   0],\n",
              "       [  0,   0,   2, 119, 137,  82,   0,  43, 162, 168, 150, 148, 144,\n",
              "        138, 140, 152, 153, 134, 156, 152, 167,   7,   0, 107, 130, 126,\n",
              "          0,   0]], dtype=uint8)"
            ],
            "text/html": [
              "<style>\n",
              "      .ndarray_repr .ndarray_raw_data {\n",
              "        display: none;\n",
              "      }\n",
              "      .ndarray_repr.show_array .ndarray_raw_data {\n",
              "        display: block;\n",
              "      }\n",
              "      .ndarray_repr.show_array .ndarray_image_preview {\n",
              "        display: none;\n",
              "      }\n",
              "      </style>\n",
              "      <div id=\"id-b7619056-8e7d-4ad9-9055-7e89fdaed350\" class=\"ndarray_repr\"><pre>ndarray (28, 28) <button style=\"padding: 0 2px;\">show data</button></pre><img src=\"data:image/png;base64,iVBORw0KGgoAAAANSUhEUgAAABwAAAAcCAAAAABXZoBIAAACnUlEQVR4nC3JPW8URwCH8f/Mzuzcvt+eD+OzIoiFFKRIkYiiKOEDpImUIkFRirRQpct3oKKgoiSfgJ6GgigpKJBMQhQhRGQ4Y5s7e1+8rzc7szMp4CmfH8GHdu59TvPjr/70r+HBLx8eBUCA7TsvP73E+aMLt/9WyZfPf0uB90As7v5kT9vP8m7+7JvTNnwV7uY/PnuPwO0bToWzy1U5bMm96EmyME318yGxFA52v1+2hKVr5smqtX+kZqWO4/uwYGDjzdG6RAeiIV+8C5Z7IeeVU0RCgkLi+jDWJ+iRuuc6w/nyZe2pOvgVIMC1u6a9/mJkNaMwAB2sp5uAbb4FA37oB7Hs3GFkOmkJJ4FiI8sFByjwkRjjg8QfF0LlstAmH6V1JvEiAgWsnhXxeWU6sTXhcdTMZCwK/vboKijwSdMuIOJkbEwcsTdGza1ZrFbxHAxITmoz22oRW9W0HvVZb6vVVisTMKAmwZvHt45eB6HUURG80uGlp+sbmdgDBVdqkh4ozadDCh2S8AJnfqFs14Nifi6HdTHw2URXnqZ1544JUQtdzEARcJ5iO2i7Y556NGMOTMv8djMPwED79uS0Qh0qYHTFyI1b6+V/5qwAQ4++6zcs8nhl3YY7diJSfy36jQaD6lVkVaZXYy2MQ7380O42MuEbDgqS2o3R69NaTnoCJ8PFREuWlD4Hw8kZ1zulCKz0KG+aueprdqU/cFQGCoSql9Krx6HcVDHlxI/CgzIJmQsKSKHw2t8p59M0Vh+boVntajK1moACh7Mhwjvl9jInfQ3OonpdjhO6Dwo8tMhwZCN3OlWTrhwakezjUJp/wYDn46zBX98do03cNmFn0kneYiNYCQYUL2b7+P3rIDergXYk21b/rPD0Ytbhf3/+X/+z8OklAAAAAElFTkSuQmCC\" class=\"ndarray_image_preview\" /><pre class=\"ndarray_raw_data\">array([[  0,   0,   0,   0,   0,   0,   0,   0,  24, 173, 222, 224, 206,\n",
              "        180, 235, 175, 185, 233, 233, 149,   0,   0,   0,   0,   0,   0,\n",
              "          0,   0],\n",
              "       [  0,   0,   0,   1,   0,   0,  22, 139, 242, 215, 252, 229, 211,\n",
              "        112,   0,  52, 139, 228, 248, 202, 211, 158,  17,   0,   0,   0,\n",
              "          0,   0],\n",
              "       [  0,   0,   1,   0,   0, 143, 230, 229, 208, 197, 242, 224, 214,\n",
              "        234, 186, 255, 234, 223, 235, 199, 211, 237, 219,  48,   0,   0,\n",
              "          0,   0],\n",
              "       [  0,   0,   0,   0, 133, 216, 219, 205, 205, 185, 216, 202, 186,\n",
              "        180, 199, 192, 225, 238, 182, 197, 222, 220, 208, 194,  29,   0,\n",
              "          1,   0],\n",
              "       [  0,   3,   0,  26, 214, 186, 208, 206, 209, 202, 194, 206, 195,\n",
              "        173, 185, 181, 224, 177, 199, 195, 199, 215, 182, 208, 186,   0,\n",
              "          0,   0],\n",
              "       [  0,   7,   0, 126, 211, 185, 214, 215, 211, 213, 209, 197, 196,\n",
              "        224, 200, 211, 194, 210, 222, 227, 232, 218, 185, 191, 199,   7,\n",
              "          0,   0],\n",
              "       [  0,   0,   0, 183, 205, 182, 201, 190, 211, 204, 209, 214, 202,\n",
              "        209, 196, 192, 194, 195, 192, 189, 219, 227, 180, 178, 210, 121,\n",
              "          0,   0],\n",
              "       [  0,   0,  48, 191, 189, 178, 235, 195, 192, 196, 183, 187, 189,\n",
              "        189, 187, 187, 187, 189, 183, 182, 191, 187, 175, 186, 190, 182,\n",
              "          0,   0],\n",
              "       [  0,   0, 130, 182, 176, 183, 205, 185, 191, 190, 180, 187, 185,\n",
              "        200, 189, 190, 195, 196, 200, 195, 199, 196, 191, 173, 180, 185,\n",
              "          0,   0],\n",
              "       [  0,   0, 158, 189, 173, 197, 172, 200, 201, 187, 205, 194, 180,\n",
              "        182, 182, 173, 191, 194, 182, 192, 192, 195, 194, 181, 194, 210,\n",
              "         13,   0],\n",
              "       [  0,   0, 157, 185, 191, 180, 186, 185, 187, 185, 195, 201, 199,\n",
              "        190, 187, 187, 204, 182, 200, 185, 206, 202, 177, 186, 166, 183,\n",
              "         52,   0],\n",
              "       [  0,   0, 195, 173, 180, 205, 186, 192, 201, 200, 192, 189, 197,\n",
              "        204, 200, 191, 173, 180, 195, 205, 205, 200, 202, 163, 143, 197,\n",
              "         72,   0],\n",
              "       [  0,   0, 210, 170, 167, 178, 196, 215, 204, 204, 206, 205, 200,\n",
              "        192, 181, 190, 175, 190, 199, 196, 195, 181, 158, 177, 152, 190,\n",
              "         87,   0],\n",
              "       [  0,   0, 197, 171, 178, 147, 114, 215, 177, 145, 156, 168, 161,\n",
              "        157, 170, 164, 175, 154, 150, 162, 192, 129, 107, 190, 158, 197,\n",
              "        120,   0],\n",
              "       [  0,   5, 192, 166, 186, 164,  81, 210, 173, 150, 172, 162, 178,\n",
              "        157, 166, 176, 176, 166, 171, 167, 196, 139,  90, 185, 157, 187,\n",
              "        111,   0],\n",
              "       [  0,  25, 177, 159, 180, 142,  64, 204, 178, 168, 180, 158, 164,\n",
              "        166, 162, 178, 163, 156, 177, 164, 211, 140,  85, 210, 153, 170,\n",
              "        129,   0],\n",
              "       [  0,  36, 182, 164, 197, 142,  86, 215, 167, 158, 154, 163, 181,\n",
              "        175, 164, 159, 167, 159, 177, 162, 200, 144,  95, 199, 145, 190,\n",
              "        140,   0],\n",
              "       [  0,  38, 173, 153, 172, 121,  72, 215, 154, 166, 161, 163, 181,\n",
              "        172, 170, 171, 168, 164, 175, 168, 187, 140,  65, 164, 143, 170,\n",
              "        123,   0],\n",
              "       [  0,  29, 173, 144, 162, 112,  64, 219, 167, 176, 181, 167, 180,\n",
              "        178, 166, 171, 171, 167, 183, 182, 204, 150,  43, 171, 134, 162,\n",
              "        119,   0],\n",
              "       [  0,  24, 164, 139, 175, 111,  59, 200, 163, 153, 150, 137, 144,\n",
              "        142, 145, 147, 156, 138, 138, 137, 163, 138,  36, 186, 139, 154,\n",
              "        124,   0],\n",
              "       [  0,  25, 181, 138, 167, 109,  55, 178, 142, 140, 143, 145, 135,\n",
              "        143, 145, 150, 137, 138, 161, 152, 159, 131,  40, 201, 123, 164,\n",
              "        129,   0],\n",
              "       [  0,   0, 161, 143, 163, 133,  39, 185, 153, 152, 145, 154, 147,\n",
              "        152, 140, 133, 153, 148, 152, 139, 156, 166,  31, 168, 126, 159,\n",
              "        110,   0],\n",
              "       [  0,   0, 173, 138, 154, 126,  32, 194, 140, 149, 139, 138, 139,\n",
              "        138, 154, 135, 158, 149, 162, 152, 168, 133,  15, 183, 138, 163,\n",
              "        116,   0],\n",
              "       [  0,   0, 166, 145, 149, 126,   0, 204, 164, 133, 159, 154, 156,\n",
              "        152, 149, 167, 156, 143, 150, 129, 194, 129,  16, 199, 137, 159,\n",
              "        117,   0],\n",
              "       [  0,   0, 137, 163, 143, 139,   0, 180, 159, 139, 150, 147, 138,\n",
              "        153, 140, 154, 156, 148, 154, 142, 181, 107,   0, 196, 145, 161,\n",
              "         68,   0],\n",
              "       [  0,   0,  64, 162, 143, 120,   0, 153, 158, 152, 156, 163, 154,\n",
              "        148, 148, 144, 140, 142, 142, 149, 196,  58,   0, 167, 138, 159,\n",
              "         26,   0],\n",
              "       [  0,   0,  19, 159, 161, 131,   0, 106, 183, 157, 157, 152, 167,\n",
              "        173, 162, 177, 181, 161, 154, 157, 211,  30,   0, 159, 145, 163,\n",
              "         10,   0],\n",
              "       [  0,   0,   2, 119, 137,  82,   0,  43, 162, 168, 150, 148, 144,\n",
              "        138, 140, 152, 153, 134, 156, 152, 167,   7,   0, 107, 130, 126,\n",
              "          0,   0]], dtype=uint8)</pre></div><script>\n",
              "      (() => {\n",
              "      const titles = ['show data', 'hide data'];\n",
              "      let index = 0\n",
              "      document.querySelector('#id-b7619056-8e7d-4ad9-9055-7e89fdaed350 button').onclick = (e) => {\n",
              "        document.querySelector('#id-b7619056-8e7d-4ad9-9055-7e89fdaed350').classList.toggle('show_array');\n",
              "        index = (++index) % 2;\n",
              "        document.querySelector('#id-b7619056-8e7d-4ad9-9055-7e89fdaed350 button').textContent = titles[index];\n",
              "        e.preventDefault();\n",
              "        e.stopPropagation();\n",
              "      }\n",
              "      })();\n",
              "    </script>"
            ]
          },
          "metadata": {},
          "execution_count": 4
        }
      ]
    },
    {
      "cell_type": "code",
      "source": [
        "labels_prueba[20]"
      ],
      "metadata": {
        "colab": {
          "base_uri": "https://localhost:8080/"
        },
        "id": "3cgeqhg9LuK8",
        "outputId": "b0984d5e-412e-4941-e9a3-5232392e629b"
      },
      "execution_count": 5,
      "outputs": [
        {
          "output_type": "execute_result",
          "data": {
            "text/plain": [
              "np.uint8(2)"
            ]
          },
          "metadata": {},
          "execution_count": 5
        }
      ]
    },
    {
      "cell_type": "code",
      "source": [
        "print(imagenes_entrenamiento.shape)\n",
        "print(labels_entrenamiento.shape)"
      ],
      "metadata": {
        "colab": {
          "base_uri": "https://localhost:8080/"
        },
        "id": "1HswAjHcKXl2",
        "outputId": "3acfdf68-27e0-4ebd-fd85-fa731e97da1a"
      },
      "execution_count": 6,
      "outputs": [
        {
          "output_type": "stream",
          "name": "stdout",
          "text": [
            "(60000, 28, 28)\n",
            "(60000,)\n"
          ]
        }
      ]
    },
    {
      "cell_type": "code",
      "source": [
        "print(imagenes_prueba.shape)\n",
        "print(labels_prueba.shape)"
      ],
      "metadata": {
        "colab": {
          "base_uri": "https://localhost:8080/"
        },
        "id": "N8UpLG4UMO-W",
        "outputId": "0162f1c7-b0cd-48f1-8c9a-6185fcc4676a"
      },
      "execution_count": 7,
      "outputs": [
        {
          "output_type": "stream",
          "name": "stdout",
          "text": [
            "(10000, 28, 28)\n",
            "(10000,)\n"
          ]
        }
      ]
    },
    {
      "cell_type": "markdown",
      "source": [
        "# Modelo: red neuronal"
      ],
      "metadata": {
        "id": "sH5zxs23MUbJ"
      }
    },
    {
      "cell_type": "code",
      "source": [
        "from keras.models import Sequential\n",
        "from keras import layers\n"
      ],
      "metadata": {
        "id": "vEVWK4DSMXlA"
      },
      "execution_count": 8,
      "outputs": []
    },
    {
      "cell_type": "code",
      "source": [
        "#Arquitectura\n",
        "modelo = Sequential([\n",
        "    layers.Flatten(input_shape=(28, 28)), #es la forma de los datos de entrada\n",
        "    layers.Dense(128, activation='relu'), #esto porque siempre maneja datos positivos porque está manejando colores que van de 0 a 255\n",
        "    layers.Dense(10, activation='softmax') #le pongo 10 porque tengo 10 tipos de ropa, la capa de salida en problemas de clasificación tiene tantas neuronas como número de clases\n",
        "])"
      ],
      "metadata": {
        "id": "hKBwTwrfNJDb",
        "colab": {
          "base_uri": "https://localhost:8080/"
        },
        "outputId": "20e8464f-0f89-4a24-f0df-a553c0ddda9f"
      },
      "execution_count": 12,
      "outputs": [
        {
          "output_type": "stream",
          "name": "stderr",
          "text": [
            "/usr/local/lib/python3.11/dist-packages/keras/src/layers/reshaping/flatten.py:37: UserWarning: Do not pass an `input_shape`/`input_dim` argument to a layer. When using Sequential models, prefer using an `Input(shape)` object as the first layer in the model instead.\n",
            "  super().__init__(**kwargs)\n"
          ]
        }
      ]
    },
    {
      "cell_type": "code",
      "source": [
        "modelo.compile(optimizer='adam', loss='sparse_categorical_crossentropy', metrics=['accuracy'])  #compile son los hiperparámetros\n",
        "\n",
        "modelo.fit(imagenes_entrenamiento, labels_entrenamiento, epochs=12) #fit es ajuste, entrenamiento"
      ],
      "metadata": {
        "colab": {
          "base_uri": "https://localhost:8080/"
        },
        "id": "dSpONmtwPAPQ",
        "outputId": "129a60f7-b7eb-4a99-a5d6-1b3b5e376ddb"
      },
      "execution_count": 13,
      "outputs": [
        {
          "output_type": "stream",
          "name": "stdout",
          "text": [
            "Epoch 1/12\n",
            "\u001b[1m1875/1875\u001b[0m \u001b[32m━━━━━━━━━━━━━━━━━━━━\u001b[0m\u001b[37m\u001b[0m \u001b[1m12s\u001b[0m 5ms/step - accuracy: 0.6725 - loss: 11.5704\n",
            "Epoch 2/12\n",
            "\u001b[1m1875/1875\u001b[0m \u001b[32m━━━━━━━━━━━━━━━━━━━━\u001b[0m\u001b[37m\u001b[0m \u001b[1m10s\u001b[0m 5ms/step - accuracy: 0.7715 - loss: 0.6556\n",
            "Epoch 3/12\n",
            "\u001b[1m1875/1875\u001b[0m \u001b[32m━━━━━━━━━━━━━━━━━━━━\u001b[0m\u001b[37m\u001b[0m \u001b[1m10s\u001b[0m 5ms/step - accuracy: 0.7897 - loss: 0.5785\n",
            "Epoch 4/12\n",
            "\u001b[1m1875/1875\u001b[0m \u001b[32m━━━━━━━━━━━━━━━━━━━━\u001b[0m\u001b[37m\u001b[0m \u001b[1m9s\u001b[0m 5ms/step - accuracy: 0.8054 - loss: 0.5450\n",
            "Epoch 5/12\n",
            "\u001b[1m1875/1875\u001b[0m \u001b[32m━━━━━━━━━━━━━━━━━━━━\u001b[0m\u001b[37m\u001b[0m \u001b[1m11s\u001b[0m 5ms/step - accuracy: 0.8230 - loss: 0.5065\n",
            "Epoch 6/12\n",
            "\u001b[1m1875/1875\u001b[0m \u001b[32m━━━━━━━━━━━━━━━━━━━━\u001b[0m\u001b[37m\u001b[0m \u001b[1m10s\u001b[0m 5ms/step - accuracy: 0.8246 - loss: 0.4962\n",
            "Epoch 7/12\n",
            "\u001b[1m1875/1875\u001b[0m \u001b[32m━━━━━━━━━━━━━━━━━━━━\u001b[0m\u001b[37m\u001b[0m \u001b[1m9s\u001b[0m 5ms/step - accuracy: 0.8322 - loss: 0.4855\n",
            "Epoch 8/12\n",
            "\u001b[1m1875/1875\u001b[0m \u001b[32m━━━━━━━━━━━━━━━━━━━━\u001b[0m\u001b[37m\u001b[0m \u001b[1m8s\u001b[0m 4ms/step - accuracy: 0.8354 - loss: 0.4705\n",
            "Epoch 9/12\n",
            "\u001b[1m1875/1875\u001b[0m \u001b[32m━━━━━━━━━━━━━━━━━━━━\u001b[0m\u001b[37m\u001b[0m \u001b[1m12s\u001b[0m 5ms/step - accuracy: 0.8367 - loss: 0.4785\n",
            "Epoch 10/12\n",
            "\u001b[1m1875/1875\u001b[0m \u001b[32m━━━━━━━━━━━━━━━━━━━━\u001b[0m\u001b[37m\u001b[0m \u001b[1m9s\u001b[0m 5ms/step - accuracy: 0.8416 - loss: 0.4622\n",
            "Epoch 11/12\n",
            "\u001b[1m1875/1875\u001b[0m \u001b[32m━━━━━━━━━━━━━━━━━━━━\u001b[0m\u001b[37m\u001b[0m \u001b[1m10s\u001b[0m 5ms/step - accuracy: 0.8415 - loss: 0.4557\n",
            "Epoch 12/12\n",
            "\u001b[1m1875/1875\u001b[0m \u001b[32m━━━━━━━━━━━━━━━━━━━━\u001b[0m\u001b[37m\u001b[0m \u001b[1m8s\u001b[0m 4ms/step - accuracy: 0.8450 - loss: 0.4488\n"
          ]
        },
        {
          "output_type": "execute_result",
          "data": {
            "text/plain": [
              "<keras.src.callbacks.history.History at 0x7bfd358e28d0>"
            ]
          },
          "metadata": {},
          "execution_count": 13
        }
      ]
    },
    {
      "cell_type": "code",
      "source": [
        "predicciones = modelo.predict(imagenes_prueba)\n",
        "predicciones.shape"
      ],
      "metadata": {
        "colab": {
          "base_uri": "https://localhost:8080/"
        },
        "id": "Tl9oDGZpT3SY",
        "outputId": "5b3fda9f-5afe-4aca-8ce9-ae2b54e31f91"
      },
      "execution_count": 14,
      "outputs": [
        {
          "output_type": "stream",
          "name": "stdout",
          "text": [
            "\u001b[1m313/313\u001b[0m \u001b[32m━━━━━━━━━━━━━━━━━━━━\u001b[0m\u001b[37m\u001b[0m \u001b[1m1s\u001b[0m 2ms/step\n"
          ]
        },
        {
          "output_type": "execute_result",
          "data": {
            "text/plain": [
              "(10000, 10)"
            ]
          },
          "metadata": {},
          "execution_count": 14
        }
      ]
    },
    {
      "cell_type": "code",
      "source": [
        "imagenes_prueba[200]\n",
        "predicciones[200]"
      ],
      "metadata": {
        "colab": {
          "base_uri": "https://localhost:8080/"
        },
        "id": "CkUxGC95T6rB",
        "outputId": "88cfdedc-fe9a-4ec3-b3dd-e4eea7351714"
      },
      "execution_count": 15,
      "outputs": [
        {
          "output_type": "execute_result",
          "data": {
            "text/plain": [
              "array([2.57308193e-06, 9.99928415e-01, 1.51124107e-06, 6.42338709e-05,\n",
              "       3.12745169e-06, 9.77159873e-24, 1.18517765e-14, 0.00000000e+00,\n",
              "       2.42009062e-08, 0.00000000e+00], dtype=float32)"
            ]
          },
          "metadata": {},
          "execution_count": 15
        }
      ]
    },
    {
      "cell_type": "code",
      "source": [
        "np.round(predicciones[200])"
      ],
      "metadata": {
        "colab": {
          "base_uri": "https://localhost:8080/"
        },
        "id": "bsllq4M1T9i9",
        "outputId": "8f48435d-57db-48bb-9c9b-5f5a126a2ccf"
      },
      "execution_count": 16,
      "outputs": [
        {
          "output_type": "execute_result",
          "data": {
            "text/plain": [
              "array([0., 1., 0., 0., 0., 0., 0., 0., 0., 0.], dtype=float32)"
            ]
          },
          "metadata": {},
          "execution_count": 16
        }
      ]
    },
    {
      "cell_type": "code",
      "source": [
        "# Predicciones redondeadas\n",
        "prediccion = np.round(predicciones[200])\n",
        "# Buscamos la posición que tiene el argumento máximo\n",
        "posicion = np.argmax(prediccion)\n",
        "posicion"
      ],
      "metadata": {
        "colab": {
          "base_uri": "https://localhost:8080/"
        },
        "id": "2zKWLL0fT-vU",
        "outputId": "63aba501-e063-49b1-81f3-15df19e3e82b"
      },
      "execution_count": 18,
      "outputs": [
        {
          "output_type": "execute_result",
          "data": {
            "text/plain": [
              "np.int64(1)"
            ]
          },
          "metadata": {},
          "execution_count": 18
        }
      ]
    },
    {
      "cell_type": "code",
      "source": [
        "clase_imagenes = ['Playera', 'Pantalón', 'Suéter', 'Vestido', 'Abrigo', 'Sandalia', 'Camisa', 'Tenis', 'Bolso', 'Botas']\n",
        "clase_imagenes[posicion]"
      ],
      "metadata": {
        "colab": {
          "base_uri": "https://localhost:8080/",
          "height": 35
        },
        "id": "t261bMtZUI3t",
        "outputId": "9700be97-dc6c-4b49-da95-4a837a49169d"
      },
      "execution_count": 19,
      "outputs": [
        {
          "output_type": "execute_result",
          "data": {
            "text/plain": [
              "'Pantalón'"
            ],
            "application/vnd.google.colaboratory.intrinsic+json": {
              "type": "string"
            }
          },
          "metadata": {},
          "execution_count": 19
        }
      ]
    },
    {
      "cell_type": "code",
      "source": [
        "numero_Imagen = 570\n",
        "#print(imagenes_prueba[numero_Imagen])\n",
        "# Predicciones redondeadas\n",
        "prediccion = np.round(predicciones[numero_Imagen])\n",
        "posicion = np.argmax(prediccion)\n",
        "clase_imagenes = ['Playera', 'Pantalón', 'Suéter', 'Vestido', 'Abrigo', 'Sandalia', 'Camisa', 'Tenis', 'Bolso', 'Botas']\n",
        "print('La imagen de prueba numero '+ str(numero_Imagen) + ' es:')\n",
        "clase_imagenes[posicion]\n",
        "imagenes_prueba[numero_Imagen]"
      ],
      "metadata": {
        "colab": {
          "base_uri": "https://localhost:8080/",
          "height": 86
        },
        "id": "2C4wYp2OUNAM",
        "outputId": "a4f1cc20-ce09-4176-e2de-79ccb3f9d89c"
      },
      "execution_count": 23,
      "outputs": [
        {
          "output_type": "stream",
          "name": "stdout",
          "text": [
            "La imagen de prueba numero 570 es:\n"
          ]
        },
        {
          "output_type": "execute_result",
          "data": {
            "text/plain": [
              "array([[  0,   0,   0,   0,   0,   0,   0,   0,   1,   0,   0,   0,  62,\n",
              "        135,   2,  65,  15,   0,   0,   0,   0,   0,   0,   0,   0,   0,\n",
              "          0,   0],\n",
              "       [  0,   0,   0,   0,   0,   0,   0,   0,   0,   8,  56,  47,  27,\n",
              "        149,  63, 120,  99,  56,  22,   0,   0,   0,   0,   0,   0,   0,\n",
              "          0,   0],\n",
              "       [  0,   0,   0,   0,   0,   0,   2,   0,   5,  98, 170,  67,   0,\n",
              "          5,  23,  18,  48,  99, 128,  52,   0,   0,   0,   0,   0,   0,\n",
              "          0,   0],\n",
              "       [  0,   0,   0,   0,   0,   0,   0,   0,  33,  73,  87,  13,  74,\n",
              "        117,  33,  97, 121,  22,  91,  72,   4,   0,   0,   0,   0,   0,\n",
              "          0,   0],\n",
              "       [  0,   0,   0,   0,   0,   1,   0,  12, 123,  56,  20,  33,  11,\n",
              "         26,  97,  60,  11,   0,  11,  58,  40,   0,   0,   0,   0,   0,\n",
              "          0,   0],\n",
              "       [  0,   0,   0,   0,   0,   1,   0,  41, 112,  97, 144,  78,  76,\n",
              "         99,   6,   8,   0,  63,  91, 157, 121,   0,   0,   0,   0,   0,\n",
              "          0,   0],\n",
              "       [  0,   0,   0,   0,   0,   1,   0,  63,  97, 134, 213,  13,  26,\n",
              "         40, 106, 103,   0,  92, 152, 120,  92,   0,   0,   1,   0,   0,\n",
              "          0,   0],\n",
              "       [  0,   0,   0,   0,   0,   0,   0,   9, 133, 110,  34,  34, 105,\n",
              "          6, 170, 180,  80,  13, 128,  94, 106,  15,   0,   0,   0,   0,\n",
              "          0,   0],\n",
              "       [  0,   0,   0,   0,   0,   0,  19,  97, 144, 149,  44,   0,  97,\n",
              "         66,  78,  51,  65,  69, 134, 137,  51,   0,   0,   0,   0,   0,\n",
              "          0,   0],\n",
              "       [  0,   0,   0,   0,   0,   0,  67, 156,  98, 152,  85,  42, 115,\n",
              "        144,  66, 120,   6, 113, 113, 170,  45, 116,   0,   0,   0,   0,\n",
              "          0,   0],\n",
              "       [  0,   0,   0,   0,   0,   0,  69, 105,  91, 162, 116,  23, 101,\n",
              "        156,  84,  29,  56, 128,  22,  85,  74, 164,   1,   0,   0,   0,\n",
              "          0,   0],\n",
              "       [  0,   0,   0,   0,   0,   0,  33,  98, 127, 142, 120,  31,   4,\n",
              "         42,  45,  60,  41, 141,  63,  74, 151,  67,  45,   0,   0,   0,\n",
              "          0,   0],\n",
              "       [  0,   0,   0,   0,   0,   6, 164,  40, 142, 164, 103,  42,  95,\n",
              "        124,  20, 238, 138,  62, 119, 117,  77,  36,  95,   0,   0,   0,\n",
              "          0,   0],\n",
              "       [  0,   0,   0,   0,   0, 116, 126, 113, 156, 139,   0,  36,  88,\n",
              "        160, 112,  42,  97,  72, 141, 171, 138,  80, 137,  42,   0,   0,\n",
              "          0,   0],\n",
              "       [  0,   0,   0,   0,   0,  58, 115,  97, 127, 120,  26,  65,  41,\n",
              "        106, 123,  77,  12,   0,   2, 131, 148, 113,  85,  56,   0,   0,\n",
              "          0,   0],\n",
              "       [  0,   0,   0,   0,   0,   0,   0,   0,  70, 126, 142, 102,  40,\n",
              "         69,  66,  99,  20, 180, 112, 127, 106,   5,   0,   0,   0,   0,\n",
              "          0,   0],\n",
              "       [  0,   0,   0,   0,   0,   0,   0,   0,   0, 113, 174,   0,  90,\n",
              "        113,  29,   1,  12, 137, 156,  24,   0,   0,   0,   0,   0,   0,\n",
              "          0,   0],\n",
              "       [  0,   0,   0,   0,   0,   0,   1,   0,   4,  70,  41,  18,  77,\n",
              "          5, 231, 173,  31,  81,  98,  60,   0,   0,   0,   0,   0,   0,\n",
              "          0,   0],\n",
              "       [  0,   0,   0,   0,   0,   0,   1,   0,   9,  49,  76,  20, 134,\n",
              "         40, 151,  92,  91,  58, 109,  73,   0,   0,   0,   0,   0,   0,\n",
              "          0,   0],\n",
              "       [  0,   0,   0,   0,   0,   1,   0,   0,   1,  80,  77,  16, 119,\n",
              "        133,  81,  97,  52, 123,  77,  73,   0,   0,   1,   0,   0,   0,\n",
              "          0,   0],\n",
              "       [  0,   0,   0,   0,   0,   0,   1,   0,  36, 106, 110,  40,  92,\n",
              "        167,  88,  67,  38,  98,  24,  92,   5,   0,   1,   0,   0,   0,\n",
              "          0,   0],\n",
              "       [  0,   0,   0,   0,   0,   0,   1,   0,   0,  77, 137,  42,  63,\n",
              "        139,  84,   1, 101, 124,  85,  65,   0,   0,   2,   0,   0,   0,\n",
              "          0,   0],\n",
              "       [  0,   0,   0,   0,   0,   0,   2,   0,  11,  52, 156,  45,  18,\n",
              "         36,  45, 131,  27, 141,  95,  91,   0,   0,   1,   0,   0,   0,\n",
              "          0,   0],\n",
              "       [  0,   0,   0,   0,   0,   0,   2,   0,  36, 127,  74,  73, 144,\n",
              "        145,  54, 255,  85,  62, 112, 137,  22,   0,   2,   0,   0,   0,\n",
              "          0,   0],\n",
              "       [  0,   0,   0,   0,   0,   0,   1,   0,  11,  92,   0,  34,  85,\n",
              "        164,  95,  38,  85,  72,  49,  27,  40,   0,   2,   0,   0,   0,\n",
              "          0,   0],\n",
              "       [  0,   0,   0,   0,   0,   0,   4,   0,  38, 123,  26,  95,  63,\n",
              "         65, 112,  55,   1,  18,  18, 108,  48,   0,   4,   0,   0,   0,\n",
              "          0,   0],\n",
              "       [  0,   0,   0,   0,   0,   0,   1,   0,  18, 106, 152, 134, 106,\n",
              "         97,  77,  66,  88, 225,  63,  83, 101,   0,   4,   0,   0,   0,\n",
              "          0,   0],\n",
              "       [  0,   0,   0,   0,   0,   0,   0,   0,   6,   0, 127,  29,  69,\n",
              "         72,   0,   0,  44,  87,  44,  56,  41,   0,   1,   0,   0,   0,\n",
              "          0,   0]], dtype=uint8)"
            ],
            "text/html": [
              "<style>\n",
              "      .ndarray_repr .ndarray_raw_data {\n",
              "        display: none;\n",
              "      }\n",
              "      .ndarray_repr.show_array .ndarray_raw_data {\n",
              "        display: block;\n",
              "      }\n",
              "      .ndarray_repr.show_array .ndarray_image_preview {\n",
              "        display: none;\n",
              "      }\n",
              "      </style>\n",
              "      <div id=\"id-da2322d9-ec92-42ac-8b0f-077c6c9ad239\" class=\"ndarray_repr\"><pre>ndarray (28, 28) <button style=\"padding: 0 2px;\">show data</button></pre><img src=\"data:image/png;base64,iVBORw0KGgoAAAANSUhEUgAAABwAAAAcCAAAAABXZoBIAAACL0lEQVR4nGNggAJGBgYGu3YmR34GBGCBMf5zGHy/y2drrnT13itkDQwMDEz/WGM9Zu5lFfotZyy75Qyqzn8MMs/XnvLSXuMgMddVhOUPktkMjAw81RYiitxSiTbcDNxWGmh2yn7VjNj3T3wx0w97Gac77aiSYh9VXWt5+VL+zpS1uf2EgYHxPwMDAxPEqQynVF74ivrfc/AN2PjiGR8/w38kncJ+3Or7rvywWfKUz4JNe9VHqB8glIH1JWZNLSG/L65HdV4r/ipBkWQ6+5NL/u0nHqGlRvxLV8saMCI76I6syhsWjvlHmeXf8mp+9Z2vcxmhk635GL/Ye+7ooOebEjdaaG97aISkM++WJ9/zmSo/VWJszLnE5ESZtbSuwSWPWX54/FNK9qKQoPLqL7saBRXP8CEFPAODm4XAjUOyfxU3LtjD/3r2bwZUULiOIapQlpGnc44ETAjqWsb/LFd3CH1e/ehY0QlBlRcMKP5kYGB9rcxkqbxhvc1Lbl4GFEnG/ww/5Bn/fIzdxXrT8QHcKdCAZ2RQllKUeKrE/ujT89PCrOjG3nkszfT4yZ999lK2T3+j6GRgZOB+Lsx8eebNpm2CXFIMkBhDJDCV6NP/3RmXngx7aSTZ+4rpH5JX/jM8v7tNicdfU12f6+AroVcodjIzSMtL2b6aKyi45tTDQA6oMFTyL8Ob93Xq2gp3ucPP6z43ZWBAtpOBge1X/TwN5h0MOtpXeT5eZ/zPwMDAAAAQ67aQEGf1lgAAAABJRU5ErkJggg==\" class=\"ndarray_image_preview\" /><pre class=\"ndarray_raw_data\">array([[  0,   0,   0,   0,   0,   0,   0,   0,   1,   0,   0,   0,  62,\n",
              "        135,   2,  65,  15,   0,   0,   0,   0,   0,   0,   0,   0,   0,\n",
              "          0,   0],\n",
              "       [  0,   0,   0,   0,   0,   0,   0,   0,   0,   8,  56,  47,  27,\n",
              "        149,  63, 120,  99,  56,  22,   0,   0,   0,   0,   0,   0,   0,\n",
              "          0,   0],\n",
              "       [  0,   0,   0,   0,   0,   0,   2,   0,   5,  98, 170,  67,   0,\n",
              "          5,  23,  18,  48,  99, 128,  52,   0,   0,   0,   0,   0,   0,\n",
              "          0,   0],\n",
              "       [  0,   0,   0,   0,   0,   0,   0,   0,  33,  73,  87,  13,  74,\n",
              "        117,  33,  97, 121,  22,  91,  72,   4,   0,   0,   0,   0,   0,\n",
              "          0,   0],\n",
              "       [  0,   0,   0,   0,   0,   1,   0,  12, 123,  56,  20,  33,  11,\n",
              "         26,  97,  60,  11,   0,  11,  58,  40,   0,   0,   0,   0,   0,\n",
              "          0,   0],\n",
              "       [  0,   0,   0,   0,   0,   1,   0,  41, 112,  97, 144,  78,  76,\n",
              "         99,   6,   8,   0,  63,  91, 157, 121,   0,   0,   0,   0,   0,\n",
              "          0,   0],\n",
              "       [  0,   0,   0,   0,   0,   1,   0,  63,  97, 134, 213,  13,  26,\n",
              "         40, 106, 103,   0,  92, 152, 120,  92,   0,   0,   1,   0,   0,\n",
              "          0,   0],\n",
              "       [  0,   0,   0,   0,   0,   0,   0,   9, 133, 110,  34,  34, 105,\n",
              "          6, 170, 180,  80,  13, 128,  94, 106,  15,   0,   0,   0,   0,\n",
              "          0,   0],\n",
              "       [  0,   0,   0,   0,   0,   0,  19,  97, 144, 149,  44,   0,  97,\n",
              "         66,  78,  51,  65,  69, 134, 137,  51,   0,   0,   0,   0,   0,\n",
              "          0,   0],\n",
              "       [  0,   0,   0,   0,   0,   0,  67, 156,  98, 152,  85,  42, 115,\n",
              "        144,  66, 120,   6, 113, 113, 170,  45, 116,   0,   0,   0,   0,\n",
              "          0,   0],\n",
              "       [  0,   0,   0,   0,   0,   0,  69, 105,  91, 162, 116,  23, 101,\n",
              "        156,  84,  29,  56, 128,  22,  85,  74, 164,   1,   0,   0,   0,\n",
              "          0,   0],\n",
              "       [  0,   0,   0,   0,   0,   0,  33,  98, 127, 142, 120,  31,   4,\n",
              "         42,  45,  60,  41, 141,  63,  74, 151,  67,  45,   0,   0,   0,\n",
              "          0,   0],\n",
              "       [  0,   0,   0,   0,   0,   6, 164,  40, 142, 164, 103,  42,  95,\n",
              "        124,  20, 238, 138,  62, 119, 117,  77,  36,  95,   0,   0,   0,\n",
              "          0,   0],\n",
              "       [  0,   0,   0,   0,   0, 116, 126, 113, 156, 139,   0,  36,  88,\n",
              "        160, 112,  42,  97,  72, 141, 171, 138,  80, 137,  42,   0,   0,\n",
              "          0,   0],\n",
              "       [  0,   0,   0,   0,   0,  58, 115,  97, 127, 120,  26,  65,  41,\n",
              "        106, 123,  77,  12,   0,   2, 131, 148, 113,  85,  56,   0,   0,\n",
              "          0,   0],\n",
              "       [  0,   0,   0,   0,   0,   0,   0,   0,  70, 126, 142, 102,  40,\n",
              "         69,  66,  99,  20, 180, 112, 127, 106,   5,   0,   0,   0,   0,\n",
              "          0,   0],\n",
              "       [  0,   0,   0,   0,   0,   0,   0,   0,   0, 113, 174,   0,  90,\n",
              "        113,  29,   1,  12, 137, 156,  24,   0,   0,   0,   0,   0,   0,\n",
              "          0,   0],\n",
              "       [  0,   0,   0,   0,   0,   0,   1,   0,   4,  70,  41,  18,  77,\n",
              "          5, 231, 173,  31,  81,  98,  60,   0,   0,   0,   0,   0,   0,\n",
              "          0,   0],\n",
              "       [  0,   0,   0,   0,   0,   0,   1,   0,   9,  49,  76,  20, 134,\n",
              "         40, 151,  92,  91,  58, 109,  73,   0,   0,   0,   0,   0,   0,\n",
              "          0,   0],\n",
              "       [  0,   0,   0,   0,   0,   1,   0,   0,   1,  80,  77,  16, 119,\n",
              "        133,  81,  97,  52, 123,  77,  73,   0,   0,   1,   0,   0,   0,\n",
              "          0,   0],\n",
              "       [  0,   0,   0,   0,   0,   0,   1,   0,  36, 106, 110,  40,  92,\n",
              "        167,  88,  67,  38,  98,  24,  92,   5,   0,   1,   0,   0,   0,\n",
              "          0,   0],\n",
              "       [  0,   0,   0,   0,   0,   0,   1,   0,   0,  77, 137,  42,  63,\n",
              "        139,  84,   1, 101, 124,  85,  65,   0,   0,   2,   0,   0,   0,\n",
              "          0,   0],\n",
              "       [  0,   0,   0,   0,   0,   0,   2,   0,  11,  52, 156,  45,  18,\n",
              "         36,  45, 131,  27, 141,  95,  91,   0,   0,   1,   0,   0,   0,\n",
              "          0,   0],\n",
              "       [  0,   0,   0,   0,   0,   0,   2,   0,  36, 127,  74,  73, 144,\n",
              "        145,  54, 255,  85,  62, 112, 137,  22,   0,   2,   0,   0,   0,\n",
              "          0,   0],\n",
              "       [  0,   0,   0,   0,   0,   0,   1,   0,  11,  92,   0,  34,  85,\n",
              "        164,  95,  38,  85,  72,  49,  27,  40,   0,   2,   0,   0,   0,\n",
              "          0,   0],\n",
              "       [  0,   0,   0,   0,   0,   0,   4,   0,  38, 123,  26,  95,  63,\n",
              "         65, 112,  55,   1,  18,  18, 108,  48,   0,   4,   0,   0,   0,\n",
              "          0,   0],\n",
              "       [  0,   0,   0,   0,   0,   0,   1,   0,  18, 106, 152, 134, 106,\n",
              "         97,  77,  66,  88, 225,  63,  83, 101,   0,   4,   0,   0,   0,\n",
              "          0,   0],\n",
              "       [  0,   0,   0,   0,   0,   0,   0,   0,   6,   0, 127,  29,  69,\n",
              "         72,   0,   0,  44,  87,  44,  56,  41,   0,   1,   0,   0,   0,\n",
              "          0,   0]], dtype=uint8)</pre></div><script>\n",
              "      (() => {\n",
              "      const titles = ['show data', 'hide data'];\n",
              "      let index = 0\n",
              "      document.querySelector('#id-da2322d9-ec92-42ac-8b0f-077c6c9ad239 button').onclick = (e) => {\n",
              "        document.querySelector('#id-da2322d9-ec92-42ac-8b0f-077c6c9ad239').classList.toggle('show_array');\n",
              "        index = (++index) % 2;\n",
              "        document.querySelector('#id-da2322d9-ec92-42ac-8b0f-077c6c9ad239 button').textContent = titles[index];\n",
              "        e.preventDefault();\n",
              "        e.stopPropagation();\n",
              "      }\n",
              "      })();\n",
              "    </script>"
            ]
          },
          "metadata": {},
          "execution_count": 23
        }
      ]
    }
  ]
}