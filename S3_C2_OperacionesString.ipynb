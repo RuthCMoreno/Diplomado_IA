{
  "nbformat": 4,
  "nbformat_minor": 0,
  "metadata": {
    "colab": {
      "provenance": [],
      "authorship_tag": "ABX9TyNtJfcfOhcoJg+5shFmPQar",
      "include_colab_link": true
    },
    "kernelspec": {
      "name": "python3",
      "display_name": "Python 3"
    },
    "language_info": {
      "name": "python"
    }
  },
  "cells": [
    {
      "cell_type": "markdown",
      "metadata": {
        "id": "view-in-github",
        "colab_type": "text"
      },
      "source": [
        "<a href=\"https://colab.research.google.com/github/RuthCMoreno/Diplomado_IA/blob/main/S3_C2_OperacionesString.ipynb\" target=\"_parent\"><img src=\"https://colab.research.google.com/assets/colab-badge.svg\" alt=\"Open In Colab\"/></a>"
      ]
    },
    {
      "cell_type": "code",
      "execution_count": 4,
      "metadata": {
        "id": "rhSFt2dqwVWq"
      },
      "outputs": [],
      "source": [
        "nombre = \"Ruth Moreno\"\n",
        "cargo = \"Asistente\""
      ]
    },
    {
      "cell_type": "code",
      "source": [
        "type(nombre)"
      ],
      "metadata": {
        "colab": {
          "base_uri": "https://localhost:8080/"
        },
        "id": "iQXWptBXyIYR",
        "outputId": "946fd2d5-8871-442c-9393-205c6e45040f"
      },
      "execution_count": 5,
      "outputs": [
        {
          "output_type": "execute_result",
          "data": {
            "text/plain": [
              "str"
            ]
          },
          "metadata": {},
          "execution_count": 5
        }
      ]
    },
    {
      "cell_type": "code",
      "source": [
        "#Consulta por índice\n",
        "primer_nombre = nombre[0:4]\n",
        "print (\"Nombre: \" , primer_nombre)\n",
        "print (\"Apellido: \" + nombre[5:12])"
      ],
      "metadata": {
        "colab": {
          "base_uri": "https://localhost:8080/"
        },
        "id": "hrgduNpxy2HV",
        "outputId": "60be1540-b152-47a2-e381-f130c6250c61"
      },
      "execution_count": 14,
      "outputs": [
        {
          "output_type": "stream",
          "name": "stdout",
          "text": [
            "Nombre:  Ruth\n",
            "Apellido: Moreno\n"
          ]
        }
      ]
    },
    {
      "cell_type": "code",
      "source": [
        "#concatenar strings\n",
        "nombre + \" se desempeña como \" + cargo"
      ],
      "metadata": {
        "colab": {
          "base_uri": "https://localhost:8080/",
          "height": 35
        },
        "id": "OJRT2UnS1LrC",
        "outputId": "e13c2138-938b-491d-b293-2665a8924eeb"
      },
      "execution_count": 18,
      "outputs": [
        {
          "output_type": "execute_result",
          "data": {
            "text/plain": [
              "'Ruth Moreno se desempeña como Asistente'"
            ],
            "application/vnd.google.colaboratory.intrinsic+json": {
              "type": "string"
            }
          },
          "metadata": {},
          "execution_count": 18
        }
      ]
    },
    {
      "cell_type": "code",
      "source": [
        "#Repetir o multiplicar un string\n",
        "5 * primer_nombre"
      ],
      "metadata": {
        "colab": {
          "base_uri": "https://localhost:8080/",
          "height": 35
        },
        "id": "7UW5-PF11Am2",
        "outputId": "a75b9a62-eeea-420e-afe0-a50ea1b3498a"
      },
      "execution_count": 15,
      "outputs": [
        {
          "output_type": "execute_result",
          "data": {
            "text/plain": [
              "'RuthRuthRuthRuthRuth'"
            ],
            "application/vnd.google.colaboratory.intrinsic+json": {
              "type": "string"
            }
          },
          "metadata": {},
          "execution_count": 15
        }
      ]
    },
    {
      "cell_type": "code",
      "source": [
        "#Convertir un texto a mayúsculas, se usa método upper\n",
        "#al usar métodos, se usa variable.upper\n",
        "\n",
        "nombre.upper()"
      ],
      "metadata": {
        "colab": {
          "base_uri": "https://localhost:8080/",
          "height": 35
        },
        "id": "n9M_Ctzw3NAq",
        "outputId": "9dc8adf0-7e9c-4a1e-a4f7-a1590fd88054"
      },
      "execution_count": 21,
      "outputs": [
        {
          "output_type": "execute_result",
          "data": {
            "text/plain": [
              "'RUTH MORENO'"
            ],
            "application/vnd.google.colaboratory.intrinsic+json": {
              "type": "string"
            }
          },
          "metadata": {},
          "execution_count": 21
        }
      ]
    },
    {
      "cell_type": "code",
      "source": [
        "#Convertir texto a minúsculas\n",
        "cargo.lower()"
      ],
      "metadata": {
        "colab": {
          "base_uri": "https://localhost:8080/",
          "height": 35
        },
        "id": "jkIuNuLY339p",
        "outputId": "b34773b9-91f7-4939-9173-8011de724daf"
      },
      "execution_count": 22,
      "outputs": [
        {
          "output_type": "execute_result",
          "data": {
            "text/plain": [
              "'asistente'"
            ],
            "application/vnd.google.colaboratory.intrinsic+json": {
              "type": "string"
            }
          },
          "metadata": {},
          "execution_count": 22
        }
      ]
    },
    {
      "cell_type": "code",
      "source": [
        "#Aplicar mayúsculas iniciales\n",
        "palabra = \"iguana\"\n",
        "palabra.capitalize()"
      ],
      "metadata": {
        "colab": {
          "base_uri": "https://localhost:8080/",
          "height": 35
        },
        "id": "tZtzjC4M4I8J",
        "outputId": "7c01b4d2-8e33-40fa-f50b-00454568b8c2"
      },
      "execution_count": 24,
      "outputs": [
        {
          "output_type": "execute_result",
          "data": {
            "text/plain": [
              "'Iguana'"
            ],
            "application/vnd.google.colaboratory.intrinsic+json": {
              "type": "string"
            }
          },
          "metadata": {},
          "execution_count": 24
        }
      ]
    },
    {
      "cell_type": "code",
      "source": [
        "#Combinando métodos\n",
        "frase1 = \" lA IGUANA \"\n",
        "frase2 = \" tomaba café\"\n",
        "frase1.lower().capitalize()"
      ],
      "metadata": {
        "colab": {
          "base_uri": "https://localhost:8080/",
          "height": 35
        },
        "id": "HrtjhXSn4lz5",
        "outputId": "50f32185-c834-4f81-8905-a50140f8764f"
      },
      "execution_count": 26,
      "outputs": [
        {
          "output_type": "execute_result",
          "data": {
            "text/plain": [
              "' la iguana '"
            ],
            "application/vnd.google.colaboratory.intrinsic+json": {
              "type": "string"
            }
          },
          "metadata": {},
          "execution_count": 26
        }
      ]
    },
    {
      "cell_type": "code",
      "source": [
        "#convertir mayúsculas por minúsculas y viceversa\n",
        "nombre.swapcase()"
      ],
      "metadata": {
        "colab": {
          "base_uri": "https://localhost:8080/",
          "height": 35
        },
        "id": "E5MUvM5k5WTd",
        "outputId": "df157b2d-4047-4bf5-d9c1-2536575cae3e"
      },
      "execution_count": 27,
      "outputs": [
        {
          "output_type": "execute_result",
          "data": {
            "text/plain": [
              "'rUTH mORENO'"
            ],
            "application/vnd.google.colaboratory.intrinsic+json": {
              "type": "string"
            }
          },
          "metadata": {},
          "execution_count": 27
        }
      ]
    },
    {
      "cell_type": "code",
      "source": [
        "#Reemplazar\n",
        "nombre.replace(\"Moreno\",\"Claudia\")"
      ],
      "metadata": {
        "colab": {
          "base_uri": "https://localhost:8080/",
          "height": 35
        },
        "id": "zLAgh9z65eje",
        "outputId": "7e5cd2ad-ec87-4a0b-c520-b3a8a58d6a45"
      },
      "execution_count": 28,
      "outputs": [
        {
          "output_type": "execute_result",
          "data": {
            "text/plain": [
              "'Ruth Claudia'"
            ],
            "application/vnd.google.colaboratory.intrinsic+json": {
              "type": "string"
            }
          },
          "metadata": {},
          "execution_count": 28
        }
      ]
    },
    {
      "cell_type": "code",
      "source": [
        "#encontrar un string dentro de otro, devuelve la posición\n",
        "nombre.find(\"Moreno\")\n",
        "#si el string no está, devuelve -1\n",
        "nombre.find(\"Claudia\")"
      ],
      "metadata": {
        "colab": {
          "base_uri": "https://localhost:8080/"
        },
        "id": "BoZ3mYNO5-43",
        "outputId": "4c3ac3a9-5969-4ecd-ba5f-bed5a1de7947"
      },
      "execution_count": 30,
      "outputs": [
        {
          "output_type": "execute_result",
          "data": {
            "text/plain": [
              "-1"
            ]
          },
          "metadata": {},
          "execution_count": 30
        }
      ]
    }
  ]
}