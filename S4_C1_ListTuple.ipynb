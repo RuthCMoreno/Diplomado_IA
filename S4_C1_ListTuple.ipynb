{
  "nbformat": 4,
  "nbformat_minor": 0,
  "metadata": {
    "colab": {
      "provenance": [],
      "include_colab_link": true
    },
    "kernelspec": {
      "name": "python3",
      "display_name": "Python 3"
    },
    "language_info": {
      "name": "python"
    }
  },
  "cells": [
    {
      "cell_type": "markdown",
      "metadata": {
        "id": "view-in-github",
        "colab_type": "text"
      },
      "source": [
        "<a href=\"https://colab.research.google.com/github/RuthCMoreno/Diplomado_IA/blob/main/S4_C1_ListTuple.ipynb\" target=\"_parent\"><img src=\"https://colab.research.google.com/assets/colab-badge.svg\" alt=\"Open In Colab\"/></a>"
      ]
    },
    {
      "cell_type": "markdown",
      "source": [
        "\n",
        "# Laboratorio: Listas y Tuplas en Python\n",
        "\n",
        "## Objetivo\n",
        "En este laboratorio, aprenderás sobre las estructuras de datos listas y tuplas en Python, su uso, ventajas y desventajas.\n",
        "# --- Sección 1: Introducción a Listas ---"
      ],
      "metadata": {
        "id": "-UJxTFcAIyDR"
      }
    },
    {
      "cell_type": "code",
      "source": [
        "print(\"\\n1. Introducción a Listas\")"
      ],
      "metadata": {
        "id": "orQP86bsI87l",
        "colab": {
          "base_uri": "https://localhost:8080/"
        },
        "outputId": "08f65300-1649-47a0-c981-0e45b21eae23"
      },
      "execution_count": 1,
      "outputs": [
        {
          "output_type": "stream",
          "name": "stdout",
          "text": [
            "\n",
            "1. Introducción a Listas\n"
          ]
        }
      ]
    },
    {
      "cell_type": "code",
      "source": [
        "# Definir una lista\n",
        "elementos = [1, 2, 3, 4, 5]\n",
        "print(\"Lista inicial:\", elementos)"
      ],
      "metadata": {
        "id": "C7AK5C19JAiU",
        "colab": {
          "base_uri": "https://localhost:8080/"
        },
        "outputId": "b4989d4f-1f48-4dea-8e76-6b9ca731e7a9"
      },
      "execution_count": 2,
      "outputs": [
        {
          "output_type": "stream",
          "name": "stdout",
          "text": [
            "Lista inicial: [1, 2, 3, 4, 5]\n"
          ]
        }
      ]
    },
    {
      "cell_type": "code",
      "source": [
        "# Acceder a elementos\n",
        "print(\"Primer elemento:\", elementos[0])\n",
        "print(\"Último elemento:\", elementos[-1])"
      ],
      "metadata": {
        "id": "Tbr8ZGtAJHWF"
      },
      "execution_count": null,
      "outputs": []
    },
    {
      "cell_type": "code",
      "source": [
        "# Modificar elementos\n",
        "elementos[2] = 99\n",
        "print(\"Lista modificada:\", elementos)"
      ],
      "metadata": {
        "id": "Udd0ZcGIJC7d"
      },
      "execution_count": null,
      "outputs": []
    },
    {
      "cell_type": "code",
      "source": [
        "# Agregar elementos\n",
        "elementos.append(6)\n",
        "print(\"Lista después de agregar un elemento:\", elementos)"
      ],
      "metadata": {
        "id": "mfAEiiPhJTm_"
      },
      "execution_count": null,
      "outputs": []
    },
    {
      "cell_type": "code",
      "source": [
        "# Eliminar elementos\n",
        "elementos.remove(99)\n",
        "print(\"Lista después de eliminar un elemento:\", elementos)"
      ],
      "metadata": {
        "id": "5lp9uzIEJVBo"
      },
      "execution_count": null,
      "outputs": []
    },
    {
      "cell_type": "markdown",
      "source": [
        "# --- Ejercicio 1 ---"
      ],
      "metadata": {
        "id": "_riQvKCqJZPa"
      }
    },
    {
      "cell_type": "code",
      "source": [
        "print(\"\\nEjercicio 1: Crea una lista con los nombres de 3 frutas y luego agrega otra fruta a la lista.\")"
      ],
      "metadata": {
        "id": "EHctBDXfJYeI"
      },
      "execution_count": null,
      "outputs": []
    },
    {
      "cell_type": "code",
      "source": [
        "elementos2 = [\"Mango\", \"Melocotón\", \"Frambuesa\"]"
      ],
      "metadata": {
        "id": "T6EWjYu4WC3x"
      },
      "execution_count": 4,
      "outputs": []
    },
    {
      "cell_type": "code",
      "source": [
        "print(elementos2)"
      ],
      "metadata": {
        "colab": {
          "base_uri": "https://localhost:8080/"
        },
        "id": "OK9B2na5WRbj",
        "outputId": "76345762-fb00-455e-f348-a27c4eb61755"
      },
      "execution_count": 5,
      "outputs": [
        {
          "output_type": "stream",
          "name": "stdout",
          "text": [
            "['Mango', 'Melocotón', 'Frambuesa']\n"
          ]
        }
      ]
    },
    {
      "cell_type": "code",
      "source": [
        "elementos2.append(\"Piña\")"
      ],
      "metadata": {
        "id": "2ReRuYU_WYmB"
      },
      "execution_count": 6,
      "outputs": []
    },
    {
      "cell_type": "code",
      "source": [
        "print(elementos2)"
      ],
      "metadata": {
        "colab": {
          "base_uri": "https://localhost:8080/"
        },
        "id": "NydlJKT1Wdyt",
        "outputId": "fafda86e-2870-4746-960a-92717bedd397"
      },
      "execution_count": 7,
      "outputs": [
        {
          "output_type": "stream",
          "name": "stdout",
          "text": [
            "['Mango', 'Melocotón', 'Frambuesa', 'Piña']\n"
          ]
        }
      ]
    },
    {
      "cell_type": "code",
      "source": [
        "#lista vacía\n",
        "lista_vacia = []"
      ],
      "metadata": {
        "id": "eRAmOIK-W_hb"
      },
      "execution_count": 8,
      "outputs": []
    },
    {
      "cell_type": "code",
      "source": [
        "lista_vacia.append(1)"
      ],
      "metadata": {
        "id": "SrjNTFRRXMSO"
      },
      "execution_count": 9,
      "outputs": []
    },
    {
      "cell_type": "code",
      "source": [
        "print(lista_vacia)"
      ],
      "metadata": {
        "colab": {
          "base_uri": "https://localhost:8080/"
        },
        "id": "b48OEsC6XRvv",
        "outputId": "df39da9e-0614-43ed-a350-c66617b50803"
      },
      "execution_count": 10,
      "outputs": [
        {
          "output_type": "stream",
          "name": "stdout",
          "text": [
            "[1]\n"
          ]
        }
      ]
    },
    {
      "cell_type": "code",
      "source": [
        "# --- Sección 2: Introducción a Tuplas ---\n",
        "print(\"\\n2. Introducción a Tuplas\")\n",
        "\n",
        "# Definir una tupla\n",
        "mi_tupla = (10, 20, 30, 40, 50)\n",
        "print(\"Tupla inicial:\", mi_tupla)"
      ],
      "metadata": {
        "id": "IeBimH2AKDFg"
      },
      "execution_count": null,
      "outputs": []
    },
    {
      "cell_type": "code",
      "source": [
        "mi_tupla = (10, 20, 30, 40, 50)"
      ],
      "metadata": {
        "id": "JF-kkP_KYTbM"
      },
      "execution_count": 11,
      "outputs": []
    },
    {
      "cell_type": "code",
      "source": [
        "print(\"Tupla inicial:\", mi_tupla)"
      ],
      "metadata": {
        "colab": {
          "base_uri": "https://localhost:8080/"
        },
        "id": "hN-mIP_JYVyc",
        "outputId": "50c03cc6-7d0b-4cdc-f008-baab927472f6"
      },
      "execution_count": 12,
      "outputs": [
        {
          "output_type": "stream",
          "name": "stdout",
          "text": [
            "Tupla inicial: (10, 20, 30, 40, 50)\n"
          ]
        }
      ]
    },
    {
      "cell_type": "code",
      "source": [
        "# Acceder a elementos\n",
        "print(\"Segundo elemento:\", mi_tupla[1])\n",
        "\n",
        "# Intentar modificar (esto generará un error)\n",
        "try:\n",
        "    mi_tupla[1] = 99\n",
        "except TypeError as e:\n",
        "    print(\"Error al intentar modificar una tupla:\", e)"
      ],
      "metadata": {
        "id": "RdEMe7DHKFwE"
      },
      "execution_count": null,
      "outputs": []
    },
    {
      "cell_type": "code",
      "source": [
        "# Intentar modificar (esto generará un error)\n",
        "try:\n",
        "    mi_tupla[1] = 99\n",
        "except TypeError as e:\n",
        "    print(\"Error al intentar modificar una tupla:\", e)"
      ],
      "metadata": {
        "colab": {
          "base_uri": "https://localhost:8080/"
        },
        "id": "ROWLWhUcYhbk",
        "outputId": "2a0ea38e-ce6e-491e-dd83-16ee297de877"
      },
      "execution_count": 13,
      "outputs": [
        {
          "output_type": "stream",
          "name": "stdout",
          "text": [
            "Error al intentar modificar una tupla: 'tuple' object does not support item assignment\n"
          ]
        }
      ]
    },
    {
      "cell_type": "code",
      "source": [
        "type(mi_tupla)"
      ],
      "metadata": {
        "colab": {
          "base_uri": "https://localhost:8080/"
        },
        "id": "Bo9jZbRgY-O_",
        "outputId": "0a999346-755f-4816-a154-153b49157991"
      },
      "execution_count": 14,
      "outputs": [
        {
          "output_type": "execute_result",
          "data": {
            "text/plain": [
              "tuple"
            ]
          },
          "metadata": {},
          "execution_count": 14
        }
      ]
    },
    {
      "cell_type": "code",
      "source": [
        "# --- Sección 3: Conversión entre listas y tuplas ---\n",
        "print(\"\\n3. Conversión entre Listas y Tuplas\")\n",
        "\n",
        "# Convertir lista a tupla\n",
        "tupla_convertida = tuple(elementos)\n",
        "print(\"Lista convertida en tupla:\", tupla_convertida)\n",
        "\n",
        "# Convertir tupla a lista\n",
        "lista_convertida = list(mi_tupla)\n",
        "print(\"Tupla convertida en lista:\", lista_convertida)\n",
        "\n",
        "# --- Ejercicio 3 ---\n",
        "print(\"\\nEjercicio 3: Convierte una tupla de números en una lista y agrega un nuevo número a la lista.\")"
      ],
      "metadata": {
        "id": "6jp1ymZiKZSO"
      },
      "execution_count": null,
      "outputs": []
    },
    {
      "cell_type": "code",
      "source": [
        "# --- Sección 3: Conversión entre listas y tuplas ---\n",
        "print(\"\\n3. Conversión entre Listas y Tuplas\")"
      ],
      "metadata": {
        "colab": {
          "base_uri": "https://localhost:8080/"
        },
        "id": "NBXPx1GyZ0JF",
        "outputId": "35db48c6-4d48-4863-c16e-9f3223320ddf"
      },
      "execution_count": 15,
      "outputs": [
        {
          "output_type": "stream",
          "name": "stdout",
          "text": [
            "\n",
            "3. Conversión entre Listas y Tuplas\n"
          ]
        }
      ]
    },
    {
      "cell_type": "code",
      "source": [
        "# Convertir lista a tupla\n",
        "tupla_convertida = tuple(elementos)\n",
        "print(\"Lista convertida en tupla:\", tupla_convertida)\n"
      ],
      "metadata": {
        "colab": {
          "base_uri": "https://localhost:8080/"
        },
        "id": "1U8ODyj6Z1ns",
        "outputId": "b8eb644d-66bf-4238-8694-667c8201c7a1"
      },
      "execution_count": 16,
      "outputs": [
        {
          "output_type": "stream",
          "name": "stdout",
          "text": [
            "Lista convertida en tupla: ('Mango', 'Melocotón', 'Frambuesa')\n"
          ]
        }
      ]
    },
    {
      "cell_type": "code",
      "source": [
        "# Convertir tupla a lista\n",
        "lista_convertida = list(mi_tupla)\n",
        "print(\"Tupla convertida en lista:\", lista_convertida)"
      ],
      "metadata": {
        "colab": {
          "base_uri": "https://localhost:8080/"
        },
        "id": "BdWB-RVLai0L",
        "outputId": "2755f286-ed46-494e-e707-5a389f665aed"
      },
      "execution_count": 17,
      "outputs": [
        {
          "output_type": "stream",
          "name": "stdout",
          "text": [
            "Tupla convertida en lista: [10, 20, 30, 40, 50]\n"
          ]
        }
      ]
    },
    {
      "cell_type": "code",
      "source": [
        "# --- Ejercicio 3 ---\n",
        "print(\"\\nEjercicio 3: Convierte una tupla de números en una lista y agrega un nuevo número a la lista.\")\n",
        "mi_tupla2 = (1,34,5,76,8)"
      ],
      "metadata": {
        "colab": {
          "base_uri": "https://localhost:8080/"
        },
        "id": "-4BJGAGFas1x",
        "outputId": "5098769e-c0d2-47f2-d1c3-a1686439e60f"
      },
      "execution_count": 18,
      "outputs": [
        {
          "output_type": "stream",
          "name": "stdout",
          "text": [
            "\n",
            "Ejercicio 3: Convierte una tupla de números en una lista y agrega un nuevo número a la lista.\n"
          ]
        }
      ]
    },
    {
      "cell_type": "code",
      "source": [
        "#convierto tupla a lista\n",
        "mi_lista2 = list(mi_tupla2)"
      ],
      "metadata": {
        "id": "Q2TSivB3a6DY"
      },
      "execution_count": 19,
      "outputs": []
    },
    {
      "cell_type": "code",
      "source": [
        "#agrego elemento a mi_lista2\n",
        "mi_lista2.append(767)\n",
        "print (mi_lista2)"
      ],
      "metadata": {
        "colab": {
          "base_uri": "https://localhost:8080/"
        },
        "id": "VpbC9MrhbFyX",
        "outputId": "4e78a597-15cf-4f03-d1e9-84c9e3aaf3ea"
      },
      "execution_count": 20,
      "outputs": [
        {
          "output_type": "stream",
          "name": "stdout",
          "text": [
            "[1, 34, 5, 76, 8, 767]\n"
          ]
        }
      ]
    },
    {
      "cell_type": "code",
      "source": [
        "# --- Sección 4: Operaciones avanzadas con listas ---\n",
        "print(\"\\n4. Operaciones avanzadas con listas\")\n",
        "\n",
        "# Concatenación de listas\n",
        "lista1 = [1, 2, 3]\n",
        "lista2 = [4, 5, 6]\n",
        "lista_concatenada = lista1 + lista2\n",
        "print(\"Lista concatenada:\", lista_concatenada)\n",
        "\n",
        "# --- Ejercicio 4 ---\n",
        "print(\"\\nEjercicio 4: Crea dos listas de nombres y concaténalas en una sola lista.\")"
      ],
      "metadata": {
        "id": "AgThJZMaKieV"
      },
      "execution_count": null,
      "outputs": []
    },
    {
      "cell_type": "code",
      "source": [
        "print(\"\\n4. Operaciones avanzadas con listas\")\n",
        "\n",
        "# Concatenación de listas\n",
        "lista1 = [1, 2, 3]\n",
        "lista2 = [4, 5, 6]\n",
        "lista_concatenada = lista1 + lista2\n",
        "print(\"Lista concatenada:\", lista_concatenada)"
      ],
      "metadata": {
        "colab": {
          "base_uri": "https://localhost:8080/"
        },
        "id": "aUwHgcPybqZ9",
        "outputId": "8e337d4b-678e-4e9c-dcac-8a8079141e92"
      },
      "execution_count": 21,
      "outputs": [
        {
          "output_type": "stream",
          "name": "stdout",
          "text": [
            "\n",
            "4. Operaciones avanzadas con listas\n",
            "Lista concatenada: [1, 2, 3, 4, 5, 6]\n"
          ]
        }
      ]
    },
    {
      "cell_type": "code",
      "source": [
        "# --- Ejercicio 4 ---\n",
        "print(\"\\nEjercicio 4: Crea dos listas de nombres y concaténalas en una sola lista.\")\n",
        "listaA = ['Olga', 'Juan', 'Pablo']\n",
        "listaB = ['Iván', 'Camila', 'Mariana']\n",
        "mi_lista_concatenada = listaA + listaB\n",
        "print(\"Lista concatenada:\", mi_lista_concatenada)"
      ],
      "metadata": {
        "colab": {
          "base_uri": "https://localhost:8080/"
        },
        "id": "47Cu4nL4btzj",
        "outputId": "ef4f25b4-cabf-4a10-8f73-643d5da87b30"
      },
      "execution_count": 22,
      "outputs": [
        {
          "output_type": "stream",
          "name": "stdout",
          "text": [
            "\n",
            "Ejercicio 4: Crea dos listas de nombres y concaténalas en una sola lista.\n",
            "Lista concatenada: ['Olga', 'Juan', 'Pablo', 'Iván', 'Camila', 'Mariana']\n"
          ]
        }
      ]
    },
    {
      "cell_type": "code",
      "source": [
        "# Listas anidadas\n",
        "lista_anidada = [[1, 2, 3], [4, 5, 6]]\n",
        "print(\"Lista anidada:\", lista_anidada)\n",
        "\n",
        "# --- Ejercicio 5 ---\n",
        "print(\"\\nEjercicio 5: Crea una lista anidada con los nombres de tres países y tres ciudades dentro de cada país.\")"
      ],
      "metadata": {
        "id": "ymEKIFnYKl6x",
        "colab": {
          "base_uri": "https://localhost:8080/"
        },
        "outputId": "7477222e-29a1-49e8-8972-94a50ffbb2b4"
      },
      "execution_count": 23,
      "outputs": [
        {
          "output_type": "stream",
          "name": "stdout",
          "text": [
            "Lista anidada: [[1, 2, 3], [4, 5, 6]]\n",
            "\n",
            "Ejercicio 5: Crea una lista anidada con los nombres de tres países y tres ciudades dentro de cada país.\n"
          ]
        }
      ]
    },
    {
      "cell_type": "code",
      "source": [
        "division_politica = [\n",
        "    [\"Colombia\", [\"Bucaramanga\", \"Cali\"]],\n",
        "    [\"Brasil\", [\"Rio de Janeiro\", \"Búzios\"]],\n",
        "    [\"Italia\", [\"Florencia\", \"Turín\"]]\n",
        "    ]"
      ],
      "metadata": {
        "id": "NQvC_UQrc2Bm"
      },
      "execution_count": 40,
      "outputs": []
    },
    {
      "cell_type": "code",
      "source": [
        "print(division_politica)"
      ],
      "metadata": {
        "colab": {
          "base_uri": "https://localhost:8080/"
        },
        "id": "O8C8oUWOdeny",
        "outputId": "73a3b9ce-f6b0-4c97-cadc-dd80256b8fb7"
      },
      "execution_count": 41,
      "outputs": [
        {
          "output_type": "stream",
          "name": "stdout",
          "text": [
            "[['Colombia', ['Bucaramanga', 'Cali']], ['Brasil', ['Rio de Janeiro', 'Búzios']], ['Italia', ['Florencia', 'Turín']]]\n"
          ]
        }
      ]
    },
    {
      "cell_type": "code",
      "source": [
        "division_politica[1][1][1]"
      ],
      "metadata": {
        "colab": {
          "base_uri": "https://localhost:8080/",
          "height": 35
        },
        "id": "gMNrIjdceYR_",
        "outputId": "96d93caf-a7d0-4cbe-c122-e34e3f42ab46"
      },
      "execution_count": 44,
      "outputs": [
        {
          "output_type": "execute_result",
          "data": {
            "text/plain": [
              "'Búzios'"
            ],
            "application/vnd.google.colaboratory.intrinsic+json": {
              "type": "string"
            }
          },
          "metadata": {},
          "execution_count": 44
        }
      ]
    },
    {
      "cell_type": "code",
      "source": [
        "# Extender listas\n",
        "lista1.extend(lista2)\n",
        "print(\"Lista extendida:\", lista1)\n",
        "\n",
        "# --- Ejercicio 6 ---\n",
        "print(\"\\nEjercicio 6: Crea una lista con 3 colores y extiéndela con otra lista de 2 colores adicionales.\")"
      ],
      "metadata": {
        "id": "e6nbXW2hKoXZ",
        "colab": {
          "base_uri": "https://localhost:8080/"
        },
        "outputId": "886458c5-f32b-424f-8f9e-e2a8ea8f90fc"
      },
      "execution_count": 45,
      "outputs": [
        {
          "output_type": "stream",
          "name": "stdout",
          "text": [
            "Lista extendida: [1, 2, 3, 4, 5, 6]\n",
            "\n",
            "Ejercicio 6: Crea una lista con 3 colores y extiéndela con otra lista de 2 colores adicionales.\n"
          ]
        }
      ]
    },
    {
      "cell_type": "code",
      "source": [
        "colores_primarios = [\"amarillo\",\"azul\",\"rojo\"]\n",
        "colores_secundarios = [\"verde\",\"violeta\",\"naranja\"]"
      ],
      "metadata": {
        "id": "oBWgx5L3iAD5"
      },
      "execution_count": 47,
      "outputs": []
    },
    {
      "cell_type": "code",
      "source": [
        "colores_primarios.extend(colores_secundarios)\n",
        "print(\"Lista extendida:\", colores_primarios)"
      ],
      "metadata": {
        "colab": {
          "base_uri": "https://localhost:8080/"
        },
        "id": "k5vEHnmJikxJ",
        "outputId": "a8ce81d0-b516-418e-b5da-ed865e590ce7"
      },
      "execution_count": 48,
      "outputs": [
        {
          "output_type": "stream",
          "name": "stdout",
          "text": [
            "Lista extendida: ['amarillo', 'azul', 'rojo', 'verde', 'violeta', 'naranja']\n"
          ]
        }
      ]
    },
    {
      "cell_type": "code",
      "source": [],
      "metadata": {
        "id": "03uGmYYQh1Kb"
      },
      "execution_count": null,
      "outputs": []
    },
    {
      "cell_type": "code",
      "execution_count": 49,
      "metadata": {
        "id": "8KiWeFB6wajl",
        "colab": {
          "base_uri": "https://localhost:8080/"
        },
        "outputId": "c56892a4-f47c-49f4-a5cb-e956a96f7a9b"
      },
      "outputs": [
        {
          "output_type": "stream",
          "name": "stdout",
          "text": [
            "Lista de frutas obtenida con split: ['manzana', 'pera', 'uva']\n",
            "\n",
            "Ejercicio 7: Toma una cadena de palabras separadas por espacios y conviértela en una lista de palabras usando split.\n"
          ]
        }
      ],
      "source": [
        "# División de cadenas en listas\n",
        "cadena = \"manzana,pera,uva\"\n",
        "lista_frutas = cadena.split(\",\")\n",
        "print(\"Lista de frutas obtenida con split:\", lista_frutas)\n",
        "\n",
        "# --- Ejercicio 7 ---\n",
        "print(\"\\nEjercicio 7: Toma una cadena de palabras separadas por espacios y conviértela en una lista de palabras usando split.\")\n"
      ]
    },
    {
      "cell_type": "code",
      "source": [
        "estudiantes = \"Ana;Jaime;Claudia\"\n",
        "lista_estudiantes = estudiantes.split(\";\")\n",
        "print(\"Lista de estudiantes obtenida con split:\", lista_estudiantes)"
      ],
      "metadata": {
        "colab": {
          "base_uri": "https://localhost:8080/"
        },
        "id": "BPax2yHhkU5L",
        "outputId": "6f113aad-edf8-4637-ebf6-ef9506396631"
      },
      "execution_count": 53,
      "outputs": [
        {
          "output_type": "stream",
          "name": "stdout",
          "text": [
            "Lista de estudiantes obtenida con split: ['Ana', 'Jaime', 'Claudia']\n"
          ]
        }
      ]
    },
    {
      "cell_type": "code",
      "source": [
        "print(\"Longitud lista de estudiantes:\", len(lista_estudiantes))"
      ],
      "metadata": {
        "colab": {
          "base_uri": "https://localhost:8080/"
        },
        "id": "NowZudMqk4bO",
        "outputId": "2e30df32-abd8-4f25-faaa-9a8aa7c27bd2"
      },
      "execution_count": 54,
      "outputs": [
        {
          "output_type": "stream",
          "name": "stdout",
          "text": [
            "Longitud lista de estudiantes: 3\n"
          ]
        }
      ]
    }
  ]
}