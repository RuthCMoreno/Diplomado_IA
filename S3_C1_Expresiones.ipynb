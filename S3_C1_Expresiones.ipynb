{
  "nbformat": 4,
  "nbformat_minor": 0,
  "metadata": {
    "colab": {
      "provenance": [],
      "include_colab_link": true
    },
    "kernelspec": {
      "name": "python3",
      "display_name": "Python 3"
    },
    "language_info": {
      "name": "python"
    }
  },
  "cells": [
    {
      "cell_type": "markdown",
      "metadata": {
        "id": "view-in-github",
        "colab_type": "text"
      },
      "source": [
        "<a href=\"https://colab.research.google.com/github/RuthCMoreno/Diplomado_IA/blob/main/S3_C1_Expresiones.ipynb\" target=\"_parent\"><img src=\"https://colab.research.google.com/assets/colab-badge.svg\" alt=\"Open In Colab\"/></a>"
      ]
    },
    {
      "cell_type": "markdown",
      "source": [
        "# Capítulo 2.2. Expresiones y Operadores\n",
        "\n",
        "**Objetivo:**\n",
        "Familiarizarse con los operadores matemáticos, relacionales y lógicos en Python mediante ejercicios prácticos y análisis de expresiones"
      ],
      "metadata": {
        "id": "nltUQBgRWM5X"
      }
    },
    {
      "cell_type": "markdown",
      "source": [
        "# Parte 1. Operadores aritmeticos"
      ],
      "metadata": {
        "id": "uj-B6ji_XaiE"
      }
    },
    {
      "cell_type": "code",
      "execution_count": null,
      "metadata": {
        "id": "pkko8vl6VzBR"
      },
      "outputs": [],
      "source": [
        "# Definimos variables numéricas\n",
        "a = 10\n",
        "b = 3\n",
        "\n",
        "# Operaciones básicas\n",
        "suma = a + b\n",
        "resta = a - b\n",
        "multiplicacion = a * b\n",
        "division = a / b\n",
        "division_entera = a // b\n",
        "modulo = a % b\n",
        "potencia = a ** b"
      ]
    },
    {
      "cell_type": "code",
      "source": [
        "# Imprime los resultados\n",
        "suma"
      ],
      "metadata": {
        "id": "28WCBxh7XiGl",
        "colab": {
          "base_uri": "https://localhost:8080/"
        },
        "outputId": "4d7392db-d613-4ea2-8ef7-76f0839d5801"
      },
      "execution_count": null,
      "outputs": [
        {
          "output_type": "execute_result",
          "data": {
            "text/plain": [
              "13"
            ]
          },
          "metadata": {},
          "execution_count": 2
        }
      ]
    },
    {
      "cell_type": "code",
      "source": [
        "division"
      ],
      "metadata": {
        "colab": {
          "base_uri": "https://localhost:8080/"
        },
        "id": "kif-w2amsHAK",
        "outputId": "5092f09f-48a5-4ae2-d8e9-2b3105deb657"
      },
      "execution_count": null,
      "outputs": [
        {
          "output_type": "execute_result",
          "data": {
            "text/plain": [
              "3.3333333333333335"
            ]
          },
          "metadata": {},
          "execution_count": 3
        }
      ]
    },
    {
      "cell_type": "code",
      "source": [
        "resta"
      ],
      "metadata": {
        "colab": {
          "base_uri": "https://localhost:8080/"
        },
        "id": "Vh6qPYM7sJly",
        "outputId": "982a0746-a22b-4ebc-e5b2-78814d134ee3"
      },
      "execution_count": null,
      "outputs": [
        {
          "output_type": "execute_result",
          "data": {
            "text/plain": [
              "7"
            ]
          },
          "metadata": {},
          "execution_count": 4
        }
      ]
    },
    {
      "cell_type": "code",
      "source": [
        "multiplicacion"
      ],
      "metadata": {
        "colab": {
          "base_uri": "https://localhost:8080/"
        },
        "id": "8b3tG0OqsLZg",
        "outputId": "0673cd0b-82a3-43a2-ed10-6f5be21195ec"
      },
      "execution_count": null,
      "outputs": [
        {
          "output_type": "execute_result",
          "data": {
            "text/plain": [
              "30"
            ]
          },
          "metadata": {},
          "execution_count": 5
        }
      ]
    },
    {
      "cell_type": "code",
      "source": [
        "division_entera #cociente de la división"
      ],
      "metadata": {
        "colab": {
          "base_uri": "https://localhost:8080/"
        },
        "id": "NLp61uKLsNxT",
        "outputId": "705e916b-a22b-41b0-a57c-006ac9f64ece"
      },
      "execution_count": null,
      "outputs": [
        {
          "output_type": "execute_result",
          "data": {
            "text/plain": [
              "3"
            ]
          },
          "metadata": {},
          "execution_count": 6
        }
      ]
    },
    {
      "cell_type": "code",
      "source": [
        "modulo  #residuo de la división"
      ],
      "metadata": {
        "colab": {
          "base_uri": "https://localhost:8080/"
        },
        "id": "WhMtFZFHsZAo",
        "outputId": "2586343f-47ba-4c42-ea0b-578bab49d310"
      },
      "execution_count": null,
      "outputs": [
        {
          "output_type": "execute_result",
          "data": {
            "text/plain": [
              "1"
            ]
          },
          "metadata": {},
          "execution_count": 7
        }
      ]
    },
    {
      "cell_type": "code",
      "source": [
        "potencia"
      ],
      "metadata": {
        "id": "5Tvi5jUfr7Dk",
        "colab": {
          "base_uri": "https://localhost:8080/"
        },
        "outputId": "dd0ae1eb-5e21-4936-8127-1acf06165939"
      },
      "execution_count": null,
      "outputs": [
        {
          "output_type": "execute_result",
          "data": {
            "text/plain": [
              "1000"
            ]
          },
          "metadata": {},
          "execution_count": 8
        }
      ]
    },
    {
      "cell_type": "markdown",
      "source": [
        "1. ¿Qué diferencia observas entre la división / y la división entera //?\n",
        "2. ¿Qué ocurre cuando cambias b por b = 0 en la operación de división?"
      ],
      "metadata": {
        "id": "SsYX8LojXoBE"
      }
    },
    {
      "cell_type": "code",
      "source": [
        "c=0"
      ],
      "metadata": {
        "id": "ewSZFJ2jzt40"
      },
      "execution_count": null,
      "outputs": []
    },
    {
      "cell_type": "code",
      "source": [
        "division = a / c"
      ],
      "metadata": {
        "colab": {
          "base_uri": "https://localhost:8080/",
          "height": 141
        },
        "id": "tNxmz_sRzyKP",
        "outputId": "7dfca495-ce17-4fea-ecf6-965850992114"
      },
      "execution_count": null,
      "outputs": [
        {
          "output_type": "error",
          "ename": "ZeroDivisionError",
          "evalue": "division by zero",
          "traceback": [
            "\u001b[0;31m---------------------------------------------------------------------------\u001b[0m",
            "\u001b[0;31mZeroDivisionError\u001b[0m                         Traceback (most recent call last)",
            "\u001b[0;32m<ipython-input-10-95fddb3a34ea>\u001b[0m in \u001b[0;36m<cell line: 0>\u001b[0;34m()\u001b[0m\n\u001b[0;32m----> 1\u001b[0;31m \u001b[0mdivision\u001b[0m \u001b[0;34m=\u001b[0m \u001b[0ma\u001b[0m \u001b[0;34m/\u001b[0m \u001b[0mc\u001b[0m\u001b[0;34m\u001b[0m\u001b[0;34m\u001b[0m\u001b[0m\n\u001b[0m",
            "\u001b[0;31mZeroDivisionError\u001b[0m: division by zero"
          ]
        }
      ]
    },
    {
      "cell_type": "markdown",
      "source": [
        "# Parte 2. Operadores Relacionales\n",
        "\n",
        "* `> ` : mayor que\n",
        "*` >`  : menor que\n",
        "* == : igual\n",
        "* != : diferente"
      ],
      "metadata": {
        "id": "lmusF4FRYPni"
      }
    },
    {
      "cell_type": "code",
      "source": [
        "x = 10\n",
        "y = 20\n",
        "\n",
        "# Actividad: Genera una comparación con cada operador\n"
      ],
      "metadata": {
        "id": "6ZPs4G73Xmos"
      },
      "execution_count": null,
      "outputs": []
    },
    {
      "cell_type": "code",
      "source": [
        "x > y"
      ],
      "metadata": {
        "colab": {
          "base_uri": "https://localhost:8080/"
        },
        "id": "c-Xw_AOxz5Vg",
        "outputId": "31c0a9e4-e616-4ad5-be6b-a624c1e841b1"
      },
      "execution_count": null,
      "outputs": [
        {
          "output_type": "execute_result",
          "data": {
            "text/plain": [
              "False"
            ]
          },
          "metadata": {},
          "execution_count": 13
        }
      ]
    },
    {
      "cell_type": "markdown",
      "source": [
        "# Parte 3. Operadores Lógicos"
      ],
      "metadata": {
        "id": "U13O48cnX7ly"
      }
    },
    {
      "cell_type": "code",
      "source": [
        "p = True\n",
        "q = False\n",
        "\n",
        "print(\"p AND q:\", p and q)\n",
        "print(\"p OR q:\", p or q)\n",
        "print(\"NOT p:\", not p)\n",
        "\n",
        "#el print me ayuda a mostrar info en pantalla"
      ],
      "metadata": {
        "id": "dn0lafknYA8E",
        "colab": {
          "base_uri": "https://localhost:8080/"
        },
        "outputId": "fd691960-1bc9-45a0-f12f-c389fd241690"
      },
      "execution_count": 1,
      "outputs": [
        {
          "output_type": "stream",
          "name": "stdout",
          "text": [
            "p AND q: False\n",
            "p OR q: True\n",
            "NOT p: False\n"
          ]
        }
      ]
    },
    {
      "cell_type": "code",
      "source": [
        "print(\" este es solo texto\")"
      ],
      "metadata": {
        "colab": {
          "base_uri": "https://localhost:8080/"
        },
        "id": "WxnynH7VmZZC",
        "outputId": "db983f65-e2b9-4d5d-d216-f0befbd054b5"
      },
      "execution_count": 2,
      "outputs": [
        {
          "output_type": "stream",
          "name": "stdout",
          "text": [
            " este es solo texto\n"
          ]
        }
      ]
    },
    {
      "cell_type": "code",
      "source": [
        "### Solo imprimir el valor de una variable o una operación\n",
        "print(p and q)"
      ],
      "metadata": {
        "colab": {
          "base_uri": "https://localhost:8080/"
        },
        "id": "-bEhfZE9mlEd",
        "outputId": "e195e0ec-c4c2-489e-a40a-2229c64b458b"
      },
      "execution_count": 3,
      "outputs": [
        {
          "output_type": "stream",
          "name": "stdout",
          "text": [
            "False\n"
          ]
        }
      ]
    },
    {
      "cell_type": "code",
      "source": [
        "### Combinado texto + operacion, se concatena con signo ,\n",
        "print(\"p AND q:\", p and q)"
      ],
      "metadata": {
        "colab": {
          "base_uri": "https://localhost:8080/"
        },
        "id": "Am5bxMrhmoCd",
        "outputId": "501b5ced-a1f3-4eee-d9f3-1f97f468db5c"
      },
      "execution_count": 5,
      "outputs": [
        {
          "output_type": "stream",
          "name": "stdout",
          "text": [
            "p AND q: False\n"
          ]
        }
      ]
    },
    {
      "cell_type": "markdown",
      "source": [
        "1. ¿En qué casos la operación and devuelve True?\n",
        "2. ¿Qué sucede si cambias los valores de p y q?"
      ],
      "metadata": {
        "id": "fvvGPUfwYCpt"
      }
    },
    {
      "cell_type": "markdown",
      "source": [
        "# Parte 4. Expresiones Matemáticas Combinadas"
      ],
      "metadata": {
        "id": "qM2E3eUdYMBz"
      }
    },
    {
      "cell_type": "code",
      "source": [
        "# Actividad 1. Cuál es el valor de x en los siguientes casos\n",
        "# x = 3 + 2 * 2\n",
        "# x = (3 + 2) * 2"
      ],
      "metadata": {
        "id": "sgSC8rN3YLjK"
      },
      "execution_count": 6,
      "outputs": []
    },
    {
      "cell_type": "code",
      "source": [
        "x_1 = 3 + 2 * 2\n",
        "x_2 = (3 + 2) * 2\n",
        "print(\"operación sin parentesis\", x_1)\n",
        "print(\"operación con parentesis\", x_2)"
      ],
      "metadata": {
        "colab": {
          "base_uri": "https://localhost:8080/"
        },
        "id": "XDmyVxrGplOB",
        "outputId": "283cc388-9532-4dd6-e43d-f0849be3204e"
      },
      "execution_count": 7,
      "outputs": [
        {
          "output_type": "stream",
          "name": "stdout",
          "text": [
            "operación sin parentesis 7\n",
            "operación con parentesis 10\n"
          ]
        }
      ]
    },
    {
      "cell_type": "markdown",
      "source": [
        "Actividad 4. Se tiene la ecuación del movimiento rectilíneo uniformemente acelerado:\n",
        "![image.png](data:image/png;base64,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)\n",
        "\n",
        "donde:\n",
        "\n",
        "* x_i = 0   # Posición inicial (m)\n",
        "* v_i = 5   # Velocidad inicial (m/s)\n",
        "* a = 2     # Aceleración (m/s^2)\n",
        "* t = 10    # Tiempo (s)"
      ],
      "metadata": {
        "id": "D-TqaQ60Z2-F"
      }
    },
    {
      "cell_type": "code",
      "source": [
        "x_i = 0\n",
        "v_i = 5\n",
        "t = 10\n",
        "a = 2"
      ],
      "metadata": {
        "id": "BiPTwmMiZuIG"
      },
      "execution_count": 8,
      "outputs": []
    },
    {
      "cell_type": "code",
      "source": [
        "x_f = x_i + v_i * t + (a * t ** 2)/2\n",
        "print(\"La posición final es :\", x_f ,\" metros.\\nDada una velocidad inicial uniforme de \", v_i ,\" metros\")"
      ],
      "metadata": {
        "colab": {
          "base_uri": "https://localhost:8080/"
        },
        "id": "X6m1QEqJrnIJ",
        "outputId": "6e609a1a-c6f5-4700-c61e-420538c0d823"
      },
      "execution_count": 16,
      "outputs": [
        {
          "output_type": "stream",
          "name": "stdout",
          "text": [
            "La posición final es : 150.0  metros.\n",
            "Dada una velocidad inicial uniforme de  5  metros\n"
          ]
        }
      ]
    }
  ]
}