{
  "nbformat": 4,
  "nbformat_minor": 0,
  "metadata": {
    "colab": {
      "provenance": [],
      "include_colab_link": true
    },
    "kernelspec": {
      "name": "python3",
      "display_name": "Python 3"
    },
    "language_info": {
      "name": "python"
    }
  },
  "cells": [
    {
      "cell_type": "markdown",
      "metadata": {
        "id": "view-in-github",
        "colab_type": "text"
      },
      "source": [
        "<a href=\"https://colab.research.google.com/github/RuthCMoreno/Diplomado_IA/blob/main/S8_C1_NN_keras_Fashion.ipynb\" target=\"_parent\"><img src=\"https://colab.research.google.com/assets/colab-badge.svg\" alt=\"Open In Colab\"/></a>"
      ]
    },
    {
      "cell_type": "code",
      "execution_count": null,
      "metadata": {
        "id": "JfAqI95sGseL"
      },
      "outputs": [],
      "source": [
        "# NumPy nos permite realizar operaciones de álgebra lineal, matrices y es muy flexible para ser utilizada con TensorFlow\n",
        "import numpy as np\n",
        "\n",
        "# Matplotlib simplifica la creación de gráficos y será muy importante para presentar los resultados obtenidos\n",
        "import matplotlib.pyplot as plt\n",
        "\n",
        "# Instalamos TensorFlow en nuestro entorno de ejecución\n",
        "import tensorflow as tf\n",
        "\n",
        "# Keras es una serie de APIs de TensorFlow que permiten simplificar el desarrollo de modelos\n",
        "from tensorflow import keras"
      ]
    },
    {
      "cell_type": "code",
      "source": [
        "datos = keras.datasets.fashion_mnist"
      ],
      "metadata": {
        "id": "ryJf2eBaIjIS"
      },
      "execution_count": null,
      "outputs": []
    },
    {
      "cell_type": "code",
      "source": [
        "# Almacenamos la información de la base de datos y la dividimos en conjuntos de prueba y entrenamiento.\n",
        "# X_train, y_train,                               X_test, y_test\n",
        "(imagenes_entrenamiento, labels_entrenamiento), (imagenes_prueba, labels_prueba) = datos.load_data()\n",
        "\n",
        "# Dado que las imágenes tienen una descripción numérica, es mucho más sencillo revisarlas por su nombre\n",
        "# Clase_imagenes = [0 , 1,   2, ]\n",
        "clase_imagenes = ['Playera', 'Pantalón', 'Suéter', 'Vestido', 'Abrigo', 'Sandalia', 'Camisa', 'Tenis', 'Bolso', 'Botas']"
      ],
      "metadata": {
        "id": "15xsfpDhIxwh"
      },
      "execution_count": null,
      "outputs": []
    },
    {
      "cell_type": "code",
      "source": [
        "imagenes_prueba[20]"
      ],
      "metadata": {
        "colab": {
          "base_uri": "https://localhost:8080/",
          "height": 68
        },
        "id": "P8e0AleBI4Fp",
        "outputId": "2a9b8cf7-e75b-445b-e130-10131ded70dd"
      },
      "execution_count": null,
      "outputs": [
        {
          "output_type": "execute_result",
          "data": {
            "text/plain": [
              "array([[  0,   0,   0,   0,   0,   0,   0,   0,  24, 173, 222, 224, 206,\n",
              "        180, 235, 175, 185, 233, 233, 149,   0,   0,   0,   0,   0,   0,\n",
              "          0,   0],\n",
              "       [  0,   0,   0,   1,   0,   0,  22, 139, 242, 215, 252, 229, 211,\n",
              "        112,   0,  52, 139, 228, 248, 202, 211, 158,  17,   0,   0,   0,\n",
              "          0,   0],\n",
              "       [  0,   0,   1,   0,   0, 143, 230, 229, 208, 197, 242, 224, 214,\n",
              "        234, 186, 255, 234, 223, 235, 199, 211, 237, 219,  48,   0,   0,\n",
              "          0,   0],\n",
              "       [  0,   0,   0,   0, 133, 216, 219, 205, 205, 185, 216, 202, 186,\n",
              "        180, 199, 192, 225, 238, 182, 197, 222, 220, 208, 194,  29,   0,\n",
              "          1,   0],\n",
              "       [  0,   3,   0,  26, 214, 186, 208, 206, 209, 202, 194, 206, 195,\n",
              "        173, 185, 181, 224, 177, 199, 195, 199, 215, 182, 208, 186,   0,\n",
              "          0,   0],\n",
              "       [  0,   7,   0, 126, 211, 185, 214, 215, 211, 213, 209, 197, 196,\n",
              "        224, 200, 211, 194, 210, 222, 227, 232, 218, 185, 191, 199,   7,\n",
              "          0,   0],\n",
              "       [  0,   0,   0, 183, 205, 182, 201, 190, 211, 204, 209, 214, 202,\n",
              "        209, 196, 192, 194, 195, 192, 189, 219, 227, 180, 178, 210, 121,\n",
              "          0,   0],\n",
              "       [  0,   0,  48, 191, 189, 178, 235, 195, 192, 196, 183, 187, 189,\n",
              "        189, 187, 187, 187, 189, 183, 182, 191, 187, 175, 186, 190, 182,\n",
              "          0,   0],\n",
              "       [  0,   0, 130, 182, 176, 183, 205, 185, 191, 190, 180, 187, 185,\n",
              "        200, 189, 190, 195, 196, 200, 195, 199, 196, 191, 173, 180, 185,\n",
              "          0,   0],\n",
              "       [  0,   0, 158, 189, 173, 197, 172, 200, 201, 187, 205, 194, 180,\n",
              "        182, 182, 173, 191, 194, 182, 192, 192, 195, 194, 181, 194, 210,\n",
              "         13,   0],\n",
              "       [  0,   0, 157, 185, 191, 180, 186, 185, 187, 185, 195, 201, 199,\n",
              "        190, 187, 187, 204, 182, 200, 185, 206, 202, 177, 186, 166, 183,\n",
              "         52,   0],\n",
              "       [  0,   0, 195, 173, 180, 205, 186, 192, 201, 200, 192, 189, 197,\n",
              "        204, 200, 191, 173, 180, 195, 205, 205, 200, 202, 163, 143, 197,\n",
              "         72,   0],\n",
              "       [  0,   0, 210, 170, 167, 178, 196, 215, 204, 204, 206, 205, 200,\n",
              "        192, 181, 190, 175, 190, 199, 196, 195, 181, 158, 177, 152, 190,\n",
              "         87,   0],\n",
              "       [  0,   0, 197, 171, 178, 147, 114, 215, 177, 145, 156, 168, 161,\n",
              "        157, 170, 164, 175, 154, 150, 162, 192, 129, 107, 190, 158, 197,\n",
              "        120,   0],\n",
              "       [  0,   5, 192, 166, 186, 164,  81, 210, 173, 150, 172, 162, 178,\n",
              "        157, 166, 176, 176, 166, 171, 167, 196, 139,  90, 185, 157, 187,\n",
              "        111,   0],\n",
              "       [  0,  25, 177, 159, 180, 142,  64, 204, 178, 168, 180, 158, 164,\n",
              "        166, 162, 178, 163, 156, 177, 164, 211, 140,  85, 210, 153, 170,\n",
              "        129,   0],\n",
              "       [  0,  36, 182, 164, 197, 142,  86, 215, 167, 158, 154, 163, 181,\n",
              "        175, 164, 159, 167, 159, 177, 162, 200, 144,  95, 199, 145, 190,\n",
              "        140,   0],\n",
              "       [  0,  38, 173, 153, 172, 121,  72, 215, 154, 166, 161, 163, 181,\n",
              "        172, 170, 171, 168, 164, 175, 168, 187, 140,  65, 164, 143, 170,\n",
              "        123,   0],\n",
              "       [  0,  29, 173, 144, 162, 112,  64, 219, 167, 176, 181, 167, 180,\n",
              "        178, 166, 171, 171, 167, 183, 182, 204, 150,  43, 171, 134, 162,\n",
              "        119,   0],\n",
              "       [  0,  24, 164, 139, 175, 111,  59, 200, 163, 153, 150, 137, 144,\n",
              "        142, 145, 147, 156, 138, 138, 137, 163, 138,  36, 186, 139, 154,\n",
              "        124,   0],\n",
              "       [  0,  25, 181, 138, 167, 109,  55, 178, 142, 140, 143, 145, 135,\n",
              "        143, 145, 150, 137, 138, 161, 152, 159, 131,  40, 201, 123, 164,\n",
              "        129,   0],\n",
              "       [  0,   0, 161, 143, 163, 133,  39, 185, 153, 152, 145, 154, 147,\n",
              "        152, 140, 133, 153, 148, 152, 139, 156, 166,  31, 168, 126, 159,\n",
              "        110,   0],\n",
              "       [  0,   0, 173, 138, 154, 126,  32, 194, 140, 149, 139, 138, 139,\n",
              "        138, 154, 135, 158, 149, 162, 152, 168, 133,  15, 183, 138, 163,\n",
              "        116,   0],\n",
              "       [  0,   0, 166, 145, 149, 126,   0, 204, 164, 133, 159, 154, 156,\n",
              "        152, 149, 167, 156, 143, 150, 129, 194, 129,  16, 199, 137, 159,\n",
              "        117,   0],\n",
              "       [  0,   0, 137, 163, 143, 139,   0, 180, 159, 139, 150, 147, 138,\n",
              "        153, 140, 154, 156, 148, 154, 142, 181, 107,   0, 196, 145, 161,\n",
              "         68,   0],\n",
              "       [  0,   0,  64, 162, 143, 120,   0, 153, 158, 152, 156, 163, 154,\n",
              "        148, 148, 144, 140, 142, 142, 149, 196,  58,   0, 167, 138, 159,\n",
              "         26,   0],\n",
              "       [  0,   0,  19, 159, 161, 131,   0, 106, 183, 157, 157, 152, 167,\n",
              "        173, 162, 177, 181, 161, 154, 157, 211,  30,   0, 159, 145, 163,\n",
              "         10,   0],\n",
              "       [  0,   0,   2, 119, 137,  82,   0,  43, 162, 168, 150, 148, 144,\n",
              "        138, 140, 152, 153, 134, 156, 152, 167,   7,   0, 107, 130, 126,\n",
              "          0,   0]], dtype=uint8)"
            ],
            "text/html": [
              "<style>\n",
              "      .ndarray_repr .ndarray_raw_data {\n",
              "        display: none;\n",
              "      }\n",
              "      .ndarray_repr.show_array .ndarray_raw_data {\n",
              "        display: block;\n",
              "      }\n",
              "      .ndarray_repr.show_array .ndarray_image_preview {\n",
              "        display: none;\n",
              "      }\n",
              "      </style>\n",
              "      <div id=\"id-4a5c137a-6403-459d-a6ce-58dfe726f1f0\" class=\"ndarray_repr\"><pre>ndarray (28, 28) <button style=\"padding: 0 2px;\">show data</button></pre><img src=\"data:image/png;base64,iVBORw0KGgoAAAANSUhEUgAAABwAAAAcCAAAAABXZoBIAAACnUlEQVR4nC3JPW8URwCH8f/Mzuzcvt+eD+OzIoiFFKRIkYiiKOEDpImUIkFRirRQpct3oKKgoiSfgJ6GgigpKJBMQhQhRGQ4Y5s7e1+8rzc7szMp4CmfH8GHdu59TvPjr/70r+HBLx8eBUCA7TsvP73E+aMLt/9WyZfPf0uB90As7v5kT9vP8m7+7JvTNnwV7uY/PnuPwO0bToWzy1U5bMm96EmyME318yGxFA52v1+2hKVr5smqtX+kZqWO4/uwYGDjzdG6RAeiIV+8C5Z7IeeVU0RCgkLi+jDWJ+iRuuc6w/nyZe2pOvgVIMC1u6a9/mJkNaMwAB2sp5uAbb4FA37oB7Hs3GFkOmkJJ4FiI8sFByjwkRjjg8QfF0LlstAmH6V1JvEiAgWsnhXxeWU6sTXhcdTMZCwK/vboKijwSdMuIOJkbEwcsTdGza1ZrFbxHAxITmoz22oRW9W0HvVZb6vVVisTMKAmwZvHt45eB6HUURG80uGlp+sbmdgDBVdqkh4ozadDCh2S8AJnfqFs14Nifi6HdTHw2URXnqZ1544JUQtdzEARcJ5iO2i7Y556NGMOTMv8djMPwED79uS0Qh0qYHTFyI1b6+V/5qwAQ4++6zcs8nhl3YY7diJSfy36jQaD6lVkVaZXYy2MQ7380O42MuEbDgqS2o3R69NaTnoCJ8PFREuWlD4Hw8kZ1zulCKz0KG+aueprdqU/cFQGCoSql9Krx6HcVDHlxI/CgzIJmQsKSKHw2t8p59M0Vh+boVntajK1moACh7Mhwjvl9jInfQ3OonpdjhO6Dwo8tMhwZCN3OlWTrhwakezjUJp/wYDn46zBX98do03cNmFn0kneYiNYCQYUL2b7+P3rIDergXYk21b/rPD0Ytbhf3/+X/+z8OklAAAAAElFTkSuQmCC\" class=\"ndarray_image_preview\" /><pre class=\"ndarray_raw_data\">array([[  0,   0,   0,   0,   0,   0,   0,   0,  24, 173, 222, 224, 206,\n",
              "        180, 235, 175, 185, 233, 233, 149,   0,   0,   0,   0,   0,   0,\n",
              "          0,   0],\n",
              "       [  0,   0,   0,   1,   0,   0,  22, 139, 242, 215, 252, 229, 211,\n",
              "        112,   0,  52, 139, 228, 248, 202, 211, 158,  17,   0,   0,   0,\n",
              "          0,   0],\n",
              "       [  0,   0,   1,   0,   0, 143, 230, 229, 208, 197, 242, 224, 214,\n",
              "        234, 186, 255, 234, 223, 235, 199, 211, 237, 219,  48,   0,   0,\n",
              "          0,   0],\n",
              "       [  0,   0,   0,   0, 133, 216, 219, 205, 205, 185, 216, 202, 186,\n",
              "        180, 199, 192, 225, 238, 182, 197, 222, 220, 208, 194,  29,   0,\n",
              "          1,   0],\n",
              "       [  0,   3,   0,  26, 214, 186, 208, 206, 209, 202, 194, 206, 195,\n",
              "        173, 185, 181, 224, 177, 199, 195, 199, 215, 182, 208, 186,   0,\n",
              "          0,   0],\n",
              "       [  0,   7,   0, 126, 211, 185, 214, 215, 211, 213, 209, 197, 196,\n",
              "        224, 200, 211, 194, 210, 222, 227, 232, 218, 185, 191, 199,   7,\n",
              "          0,   0],\n",
              "       [  0,   0,   0, 183, 205, 182, 201, 190, 211, 204, 209, 214, 202,\n",
              "        209, 196, 192, 194, 195, 192, 189, 219, 227, 180, 178, 210, 121,\n",
              "          0,   0],\n",
              "       [  0,   0,  48, 191, 189, 178, 235, 195, 192, 196, 183, 187, 189,\n",
              "        189, 187, 187, 187, 189, 183, 182, 191, 187, 175, 186, 190, 182,\n",
              "          0,   0],\n",
              "       [  0,   0, 130, 182, 176, 183, 205, 185, 191, 190, 180, 187, 185,\n",
              "        200, 189, 190, 195, 196, 200, 195, 199, 196, 191, 173, 180, 185,\n",
              "          0,   0],\n",
              "       [  0,   0, 158, 189, 173, 197, 172, 200, 201, 187, 205, 194, 180,\n",
              "        182, 182, 173, 191, 194, 182, 192, 192, 195, 194, 181, 194, 210,\n",
              "         13,   0],\n",
              "       [  0,   0, 157, 185, 191, 180, 186, 185, 187, 185, 195, 201, 199,\n",
              "        190, 187, 187, 204, 182, 200, 185, 206, 202, 177, 186, 166, 183,\n",
              "         52,   0],\n",
              "       [  0,   0, 195, 173, 180, 205, 186, 192, 201, 200, 192, 189, 197,\n",
              "        204, 200, 191, 173, 180, 195, 205, 205, 200, 202, 163, 143, 197,\n",
              "         72,   0],\n",
              "       [  0,   0, 210, 170, 167, 178, 196, 215, 204, 204, 206, 205, 200,\n",
              "        192, 181, 190, 175, 190, 199, 196, 195, 181, 158, 177, 152, 190,\n",
              "         87,   0],\n",
              "       [  0,   0, 197, 171, 178, 147, 114, 215, 177, 145, 156, 168, 161,\n",
              "        157, 170, 164, 175, 154, 150, 162, 192, 129, 107, 190, 158, 197,\n",
              "        120,   0],\n",
              "       [  0,   5, 192, 166, 186, 164,  81, 210, 173, 150, 172, 162, 178,\n",
              "        157, 166, 176, 176, 166, 171, 167, 196, 139,  90, 185, 157, 187,\n",
              "        111,   0],\n",
              "       [  0,  25, 177, 159, 180, 142,  64, 204, 178, 168, 180, 158, 164,\n",
              "        166, 162, 178, 163, 156, 177, 164, 211, 140,  85, 210, 153, 170,\n",
              "        129,   0],\n",
              "       [  0,  36, 182, 164, 197, 142,  86, 215, 167, 158, 154, 163, 181,\n",
              "        175, 164, 159, 167, 159, 177, 162, 200, 144,  95, 199, 145, 190,\n",
              "        140,   0],\n",
              "       [  0,  38, 173, 153, 172, 121,  72, 215, 154, 166, 161, 163, 181,\n",
              "        172, 170, 171, 168, 164, 175, 168, 187, 140,  65, 164, 143, 170,\n",
              "        123,   0],\n",
              "       [  0,  29, 173, 144, 162, 112,  64, 219, 167, 176, 181, 167, 180,\n",
              "        178, 166, 171, 171, 167, 183, 182, 204, 150,  43, 171, 134, 162,\n",
              "        119,   0],\n",
              "       [  0,  24, 164, 139, 175, 111,  59, 200, 163, 153, 150, 137, 144,\n",
              "        142, 145, 147, 156, 138, 138, 137, 163, 138,  36, 186, 139, 154,\n",
              "        124,   0],\n",
              "       [  0,  25, 181, 138, 167, 109,  55, 178, 142, 140, 143, 145, 135,\n",
              "        143, 145, 150, 137, 138, 161, 152, 159, 131,  40, 201, 123, 164,\n",
              "        129,   0],\n",
              "       [  0,   0, 161, 143, 163, 133,  39, 185, 153, 152, 145, 154, 147,\n",
              "        152, 140, 133, 153, 148, 152, 139, 156, 166,  31, 168, 126, 159,\n",
              "        110,   0],\n",
              "       [  0,   0, 173, 138, 154, 126,  32, 194, 140, 149, 139, 138, 139,\n",
              "        138, 154, 135, 158, 149, 162, 152, 168, 133,  15, 183, 138, 163,\n",
              "        116,   0],\n",
              "       [  0,   0, 166, 145, 149, 126,   0, 204, 164, 133, 159, 154, 156,\n",
              "        152, 149, 167, 156, 143, 150, 129, 194, 129,  16, 199, 137, 159,\n",
              "        117,   0],\n",
              "       [  0,   0, 137, 163, 143, 139,   0, 180, 159, 139, 150, 147, 138,\n",
              "        153, 140, 154, 156, 148, 154, 142, 181, 107,   0, 196, 145, 161,\n",
              "         68,   0],\n",
              "       [  0,   0,  64, 162, 143, 120,   0, 153, 158, 152, 156, 163, 154,\n",
              "        148, 148, 144, 140, 142, 142, 149, 196,  58,   0, 167, 138, 159,\n",
              "         26,   0],\n",
              "       [  0,   0,  19, 159, 161, 131,   0, 106, 183, 157, 157, 152, 167,\n",
              "        173, 162, 177, 181, 161, 154, 157, 211,  30,   0, 159, 145, 163,\n",
              "         10,   0],\n",
              "       [  0,   0,   2, 119, 137,  82,   0,  43, 162, 168, 150, 148, 144,\n",
              "        138, 140, 152, 153, 134, 156, 152, 167,   7,   0, 107, 130, 126,\n",
              "          0,   0]], dtype=uint8)</pre></div><script>\n",
              "      (() => {\n",
              "      const titles = ['show data', 'hide data'];\n",
              "      let index = 0\n",
              "      document.querySelector('#id-4a5c137a-6403-459d-a6ce-58dfe726f1f0 button').onclick = (e) => {\n",
              "        document.querySelector('#id-4a5c137a-6403-459d-a6ce-58dfe726f1f0').classList.toggle('show_array');\n",
              "        index = (++index) % 2;\n",
              "        document.querySelector('#id-4a5c137a-6403-459d-a6ce-58dfe726f1f0 button').textContent = titles[index];\n",
              "        e.preventDefault();\n",
              "        e.stopPropagation();\n",
              "      }\n",
              "      })();\n",
              "    </script>"
            ]
          },
          "metadata": {},
          "execution_count": 21
        }
      ]
    },
    {
      "cell_type": "code",
      "source": [
        "labels_prueba[20]"
      ],
      "metadata": {
        "colab": {
          "base_uri": "https://localhost:8080/"
        },
        "id": "3cgeqhg9LuK8",
        "outputId": "a98b9de8-dc2a-4537-b6f3-7d960f318fc4"
      },
      "execution_count": null,
      "outputs": [
        {
          "output_type": "execute_result",
          "data": {
            "text/plain": [
              "np.uint8(2)"
            ]
          },
          "metadata": {},
          "execution_count": 22
        }
      ]
    },
    {
      "cell_type": "code",
      "source": [
        "print(imagenes_entrenamiento.shape)\n",
        "print(labels_entrenamiento.shape)"
      ],
      "metadata": {
        "colab": {
          "base_uri": "https://localhost:8080/"
        },
        "id": "1HswAjHcKXl2",
        "outputId": "c3001e8a-1159-486d-fa5c-a89f5c550377"
      },
      "execution_count": null,
      "outputs": [
        {
          "output_type": "stream",
          "name": "stdout",
          "text": [
            "(60000, 28, 28)\n",
            "(60000,)\n"
          ]
        }
      ]
    },
    {
      "cell_type": "code",
      "source": [
        "print(imagenes_prueba.shape)\n",
        "print(labels_prueba.shape)"
      ],
      "metadata": {
        "colab": {
          "base_uri": "https://localhost:8080/"
        },
        "id": "N8UpLG4UMO-W",
        "outputId": "2ca757e6-66dd-4ab6-e513-715211c371fb"
      },
      "execution_count": null,
      "outputs": [
        {
          "output_type": "stream",
          "name": "stdout",
          "text": [
            "(10000, 28, 28)\n",
            "(10000,)\n"
          ]
        }
      ]
    },
    {
      "cell_type": "markdown",
      "source": [
        "# Modelo: red neuronal"
      ],
      "metadata": {
        "id": "sH5zxs23MUbJ"
      }
    },
    {
      "cell_type": "code",
      "source": [
        "from keras.models import Sequential\n",
        "from keras import layers\n"
      ],
      "metadata": {
        "id": "vEVWK4DSMXlA"
      },
      "execution_count": null,
      "outputs": []
    },
    {
      "cell_type": "code",
      "source": [
        "modelo = Sequential([\n",
        "    layers.Flatten(input_shape=(28, 28)),\n",
        "    layers.Dense(128, activation='relu'),\n",
        "    layers.Dense(10, activation='softmax')\n",
        "])"
      ],
      "metadata": {
        "id": "hKBwTwrfNJDb"
      },
      "execution_count": null,
      "outputs": []
    },
    {
      "cell_type": "code",
      "source": [
        "modelo.compile(optimizer='adam', loss='sparse_categorical_crossentropy', metrics=['accuracy'])\n",
        "\n",
        "modelo.fit(imagenes_entrenamiento, labels_entrenamiento, epochs=10)"
      ],
      "metadata": {
        "colab": {
          "base_uri": "https://localhost:8080/"
        },
        "id": "dSpONmtwPAPQ",
        "outputId": "dfedc7a0-1370-4307-de5f-7617fe5bdcec"
      },
      "execution_count": null,
      "outputs": [
        {
          "output_type": "stream",
          "name": "stdout",
          "text": [
            "Epoch 1/10\n",
            "\u001b[1m1875/1875\u001b[0m \u001b[32m━━━━━━━━━━━━━━━━━━━━\u001b[0m\u001b[37m\u001b[0m \u001b[1m9s\u001b[0m 4ms/step - accuracy: 0.6660 - loss: 10.4510\n",
            "Epoch 2/10\n",
            "\u001b[1m1875/1875\u001b[0m \u001b[32m━━━━━━━━━━━━━━━━━━━━\u001b[0m\u001b[37m\u001b[0m \u001b[1m6s\u001b[0m 3ms/step - accuracy: 0.7106 - loss: 0.7935\n",
            "Epoch 3/10\n",
            "\u001b[1m1875/1875\u001b[0m \u001b[32m━━━━━━━━━━━━━━━━━━━━\u001b[0m\u001b[37m\u001b[0m \u001b[1m7s\u001b[0m 4ms/step - accuracy: 0.7313 - loss: 0.6780\n",
            "Epoch 4/10\n",
            "\u001b[1m1875/1875\u001b[0m \u001b[32m━━━━━━━━━━━━━━━━━━━━\u001b[0m\u001b[37m\u001b[0m \u001b[1m10s\u001b[0m 4ms/step - accuracy: 0.7371 - loss: 0.6380\n",
            "Epoch 5/10\n",
            "\u001b[1m1875/1875\u001b[0m \u001b[32m━━━━━━━━━━━━━━━━━━━━\u001b[0m\u001b[37m\u001b[0m \u001b[1m7s\u001b[0m 4ms/step - accuracy: 0.7463 - loss: 0.6248\n",
            "Epoch 6/10\n",
            "\u001b[1m1875/1875\u001b[0m \u001b[32m━━━━━━━━━━━━━━━━━━━━\u001b[0m\u001b[37m\u001b[0m \u001b[1m7s\u001b[0m 4ms/step - accuracy: 0.7766 - loss: 0.5854\n",
            "Epoch 7/10\n",
            "\u001b[1m1875/1875\u001b[0m \u001b[32m━━━━━━━━━━━━━━━━━━━━\u001b[0m\u001b[37m\u001b[0m \u001b[1m9s\u001b[0m 3ms/step - accuracy: 0.7850 - loss: 0.5789\n",
            "Epoch 8/10\n",
            "\u001b[1m1875/1875\u001b[0m \u001b[32m━━━━━━━━━━━━━━━━━━━━\u001b[0m\u001b[37m\u001b[0m \u001b[1m7s\u001b[0m 4ms/step - accuracy: 0.7912 - loss: 0.5528\n",
            "Epoch 9/10\n",
            "\u001b[1m1875/1875\u001b[0m \u001b[32m━━━━━━━━━━━━━━━━━━━━\u001b[0m\u001b[37m\u001b[0m \u001b[1m6s\u001b[0m 3ms/step - accuracy: 0.7944 - loss: 0.5519\n",
            "Epoch 10/10\n",
            "\u001b[1m1875/1875\u001b[0m \u001b[32m━━━━━━━━━━━━━━━━━━━━\u001b[0m\u001b[37m\u001b[0m \u001b[1m7s\u001b[0m 4ms/step - accuracy: 0.8001 - loss: 0.5383\n"
          ]
        },
        {
          "output_type": "execute_result",
          "data": {
            "text/plain": [
              "<keras.src.callbacks.history.History at 0x7db335766090>"
            ]
          },
          "metadata": {},
          "execution_count": 28
        }
      ]
    }
  ]
}