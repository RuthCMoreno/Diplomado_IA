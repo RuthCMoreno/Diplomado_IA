{
  "nbformat": 4,
  "nbformat_minor": 0,
  "metadata": {
    "colab": {
      "provenance": [],
      "include_colab_link": true
    },
    "kernelspec": {
      "name": "python3",
      "display_name": "Python 3"
    },
    "language_info": {
      "name": "python"
    }
  },
  "cells": [
    {
      "cell_type": "markdown",
      "metadata": {
        "id": "view-in-github",
        "colab_type": "text"
      },
      "source": [
        "<a href=\"https://colab.research.google.com/github/RuthCMoreno/Diplomado_IA/blob/main/Guia_EDA_Python.ipynb\" target=\"_parent\"><img src=\"https://colab.research.google.com/assets/colab-badge.svg\" alt=\"Open In Colab\"/></a>"
      ]
    },
    {
      "cell_type": "markdown",
      "source": [
        "# GUIA EDA\n",
        "## Análisis Exploratorio de Datos\n",
        "\n",
        "Este ejercicio es una réplica de la guía de la página\n",
        "\n",
        "[Texto](https://)\n",
        "\n",
        "[Guía Página](https://datos.gob.es/es/documentacion/guia-practica-de-introduccion-al-analisis-exploratorio-de-datos-en-python)"
      ],
      "metadata": {
        "id": "mCmjgyyhlsth"
      }
    },
    {
      "cell_type": "markdown",
      "source": [
        "**Objetivo de la actividad:** replicar los códidos de EDA del ejercicio de la página\n",
        "\n",
        "**Entregable:** incluir al final de cada caja de código un comentario interpretando los mismos código y/o los resultados"
      ],
      "metadata": {
        "id": "TXPUUJ4nq3PZ"
      }
    },
    {
      "cell_type": "markdown",
      "source": [
        "# 2.1.1. EXPERIMENTA"
      ],
      "metadata": {
        "id": "nd4A85d1qFxx"
      }
    },
    {
      "cell_type": "code",
      "execution_count": null,
      "metadata": {
        "colab": {
          "base_uri": "https://localhost:8080/"
        },
        "id": "0sT64JKUkxYZ",
        "outputId": "c6353a85-c0b4-477a-d4d3-62d33a0a5eb9"
      },
      "outputs": [
        {
          "output_type": "stream",
          "name": "stdout",
          "text": [
            "====================================================================================================\n",
            "<class 'pandas.core.frame.DataFrame'>\n",
            "RangeIndex: 446014 entries, 0 to 446013\n",
            "Data columns (total 13 columns):\n",
            " #   Column        Non-Null Count   Dtype  \n",
            "---  ------        --------------   -----  \n",
            " 0   Fecha         446014 non-null  object \n",
            " 1   CO (mg/m3)    101158 non-null  float64\n",
            " 2   NO (ug/m3)    415030 non-null  float64\n",
            " 3   NO2 (ug/m3)   413497 non-null  float64\n",
            " 4   O3 (ug/m3)    275414 non-null  float64\n",
            " 5   PM10 (ug/m3)  344579 non-null  float64\n",
            " 6   PM25 (ug/m3)  53784 non-null   float64\n",
            " 7   SO2 (ug/m3)   356277 non-null  float64\n",
            " 8   Provincia     446014 non-null  object \n",
            " 9   Estación      446014 non-null  object \n",
            " 10  Latitud       445788 non-null  float64\n",
            " 11  Longitud      445788 non-null  float64\n",
            " 12  Posición      445788 non-null  object \n",
            "dtypes: float64(9), object(4)\n",
            "memory usage: 44.2+ MB\n",
            "None\n",
            "====================================================================================================\n",
            "          CO (mg/m3)     NO (ug/m3)    NO2 (ug/m3)     O3 (ug/m3)  \\\n",
            "count  101158.000000  415030.000000  413497.000000  275414.000000   \n",
            "mean        0.854624      13.225808      21.409154      52.619754   \n",
            "std         0.785226      21.970729      19.108434      23.221958   \n",
            "min         0.000000    -441.000000       0.000000       0.000000   \n",
            "25%         0.300000       2.000000       8.000000      37.000000   \n",
            "50%         0.700000       5.000000      16.000000      54.000000   \n",
            "75%         1.100000      15.000000      29.000000      68.000000   \n",
            "max        25.100000     634.000000     249.000000     999.000000   \n",
            "\n",
            "        PM10 (ug/m3)  PM25 (ug/m3)    SO2 (ug/m3)        Latitud  \\\n",
            "count  344579.000000  53784.000000  356277.000000  445788.000000   \n",
            "mean       22.694662     13.677172       9.092801      42.151547   \n",
            "std        17.919319     15.895495      13.790750       0.665501   \n",
            "min         0.000000      0.000000    -791.000000      38.938333   \n",
            "25%        11.000000      5.000000       2.000000      41.645556   \n",
            "50%        18.000000      9.000000       5.000000      42.542778   \n",
            "75%        29.000000     15.000000      11.000000      42.688056   \n",
            "max       557.000000    223.000000     364.000000      43.603333   \n",
            "\n",
            "            Longitud  \n",
            "count  445788.000000  \n",
            "mean       -5.178965  \n",
            "std         1.121920  \n",
            "min        -6.781944  \n",
            "25%        -6.483889  \n",
            "50%        -4.909167  \n",
            "75%        -4.538333  \n",
            "max        -2.466667  \n",
            "====================================================================================================\n"
          ]
        }
      ],
      "source": [
        "# Cargar las librerías necesarias\n",
        "import pandas as pd\n",
        "import os\n",
        "\n",
        "# Cargar los datos en un DataFrame\n",
        "calidad_aire = pd.read_csv('https://datosabiertos.jcyl.es/web/jcyl/risp/es/medio-ambiente/calidad_aire_historico/1284212629698.csv', sep = ';')\n",
        "\n",
        "# Mostrar las primeras filas del DataFrame\n",
        "calidad_aire.head(2)\n",
        "print(\"=\"*100)\n",
        "\n",
        "# Mostrar la estructura del DataFrame\n",
        "print(calidad_aire.info())\n",
        "print(\"=\"*100)\n",
        "# Mostrar un resumen estadístico de las variables numéricas\n",
        "print(calidad_aire.describe())\n",
        "print(\"=\"*100)"
      ]
    },
    {
      "cell_type": "code",
      "source": [],
      "metadata": {
        "id": "YP19vHmUl6U5"
      },
      "execution_count": null,
      "outputs": []
    }
  ]
}